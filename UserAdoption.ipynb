{
  "nbformat": 4,
  "nbformat_minor": 0,
  "metadata": {
    "colab": {
      "provenance": [],
      "authorship_tag": "ABX9TyMP8hRtilQFfvBNpdhfNBHL"
    },
    "kernelspec": {
      "name": "python3",
      "display_name": "Python 3"
    },
    "language_info": {
      "name": "python"
    }
  },
  "cells": [
    {
      "cell_type": "code",
      "execution_count": null,
      "metadata": {
        "id": "HhSosl22_1E0"
      },
      "outputs": [],
      "source": [
        "# Code to read csv file into colaboratory:\n",
        "!pip install -U -q PyDrive\n",
        "from pydrive.auth import GoogleAuth\n",
        "from pydrive.drive import GoogleDrive\n",
        "from google.colab import auth\n",
        "from oauth2client.client import GoogleCredentials"
      ]
    },
    {
      "cell_type": "code",
      "source": [
        "auth.authenticate_user()\n",
        "gauth = GoogleAuth()\n",
        "gauth.credentials = GoogleCredentials.get_application_default()\n",
        "drive = GoogleDrive(gauth)"
      ],
      "metadata": {
        "id": "fWnPKQTXAHdS"
      },
      "execution_count": null,
      "outputs": []
    },
    {
      "cell_type": "code",
      "source": [
        "#2.1 Get the file\n",
        "downloaded = drive.CreateFile({'id':'1LqVRSoFY6UKzpRbcJeZW0mfwP9_bCoTk'}) # replace the id with id of file you want to access\n",
        "downloaded.GetContentFile('takehome_users.csv') \n",
        "downloaded = drive.CreateFile({'id':'17T2PBcLMTt2BSOKLu-CM2ML-bSJVRGTP'}) # replace the id with id of file you want to access\n",
        "downloaded.GetContentFile('takehome_user_engagement.csv') "
      ],
      "metadata": {
        "id": "HQgQDHUMAOzT"
      },
      "execution_count": null,
      "outputs": []
    },
    {
      "cell_type": "code",
      "source": [
        "# importing all the required libraries and modules\n",
        "import pandas as pd\n",
        "import numpy as np\n",
        "import matplotlib.pyplot as plt\n",
        "import seaborn as sns\n",
        "import requests\n",
        "import csv\n",
        "import os\n",
        "import json\n",
        "from pandas.io.json import json_normalize\n",
        "from datetime import datetime, timedelta\n",
        "import scipy.stats\n",
        "import matplotlib.dates as mdates\n",
        "import plotly.graph_objects as go\n",
        "plt.style.use('bmh')"
      ],
      "metadata": {
        "id": "4GqWOJMqB5wD"
      },
      "execution_count": null,
      "outputs": []
    },
    {
      "cell_type": "code",
      "source": [
        "with open('takehome_users.csv') as f:\n",
        "    print(f)\n",
        " #for text in f:\n",
        "        #print(text)\n",
        "with open('takehome_user_engagement.csv') as f:\n",
        "    print(f)"
      ],
      "metadata": {
        "colab": {
          "base_uri": "https://localhost:8080/"
        },
        "id": "u9ghICYhB6GV",
        "outputId": "3ed82854-3efd-49a9-c3b8-2530cd8598d2"
      },
      "execution_count": null,
      "outputs": [
        {
          "output_type": "stream",
          "name": "stdout",
          "text": [
            "<_io.TextIOWrapper name='takehome_users.csv' mode='r' encoding='UTF-8'>\n",
            "<_io.TextIOWrapper name='takehome_user_engagement.csv' mode='r' encoding='UTF-8'>\n"
          ]
        }
      ]
    },
    {
      "cell_type": "code",
      "source": [
        "# Importing the csv file into a dataframe using the above encoding\n",
        "\n",
        "# load as Pandas dataframe\n",
        "users = pd.read_csv('takehome_users.csv', encoding=\"ISO-8859-1\")\n",
        "user_eng = pd.read_csv('takehome_user_engagement.csv', encoding=\"ISO-8859-1\")\n",
        "users.info()"
      ],
      "metadata": {
        "colab": {
          "base_uri": "https://localhost:8080/"
        },
        "id": "qwbLJyagCp40",
        "outputId": "777e6827-1fd4-40ab-f2b1-90ba0f3a4449"
      },
      "execution_count": null,
      "outputs": [
        {
          "output_type": "stream",
          "name": "stdout",
          "text": [
            "<class 'pandas.core.frame.DataFrame'>\n",
            "RangeIndex: 12000 entries, 0 to 11999\n",
            "Data columns (total 10 columns):\n",
            " #   Column                      Non-Null Count  Dtype  \n",
            "---  ------                      --------------  -----  \n",
            " 0   object_id                   12000 non-null  int64  \n",
            " 1   creation_time               12000 non-null  object \n",
            " 2   name                        12000 non-null  object \n",
            " 3   email                       12000 non-null  object \n",
            " 4   creation_source             12000 non-null  object \n",
            " 5   last_session_creation_time  8823 non-null   float64\n",
            " 6   opted_in_to_mailing_list    12000 non-null  int64  \n",
            " 7   enabled_for_marketing_drip  12000 non-null  int64  \n",
            " 8   org_id                      12000 non-null  int64  \n",
            " 9   invited_by_user_id          6417 non-null   float64\n",
            "dtypes: float64(2), int64(4), object(4)\n",
            "memory usage: 937.6+ KB\n"
          ]
        }
      ]
    },
    {
      "cell_type": "code",
      "source": [
        "users.describe().T"
      ],
      "metadata": {
        "colab": {
          "base_uri": "https://localhost:8080/",
          "height": 234
        },
        "id": "OF7P8mTTGcgp",
        "outputId": "e982cc4b-c94e-43e1-f83c-1e540b2481a0"
      },
      "execution_count": null,
      "outputs": [
        {
          "output_type": "execute_result",
          "data": {
            "text/plain": [
              "                              count          mean           std           min  \\\n",
              "object_id                   12000.0  6.000500e+03  3.464246e+03  1.000000e+00   \n",
              "last_session_creation_time   8823.0  1.379279e+09  1.953116e+07  1.338452e+09   \n",
              "opted_in_to_mailing_list    12000.0  2.495000e-01  4.327417e-01  0.000000e+00   \n",
              "enabled_for_marketing_drip  12000.0  1.493333e-01  3.564316e-01  0.000000e+00   \n",
              "org_id                      12000.0  1.418846e+02  1.240567e+02  0.000000e+00   \n",
              "invited_by_user_id           6417.0  5.962957e+03  3.383762e+03  3.000000e+00   \n",
              "\n",
              "                                     25%           50%           75%  \\\n",
              "object_id                   3.000750e+03  6.000500e+03  9.000250e+03   \n",
              "last_session_creation_time  1.363195e+09  1.382888e+09  1.398443e+09   \n",
              "opted_in_to_mailing_list    0.000000e+00  0.000000e+00  0.000000e+00   \n",
              "enabled_for_marketing_drip  0.000000e+00  0.000000e+00  0.000000e+00   \n",
              "org_id                      2.900000e+01  1.080000e+02  2.382500e+02   \n",
              "invited_by_user_id          3.058000e+03  5.954000e+03  8.817000e+03   \n",
              "\n",
              "                                     max  \n",
              "object_id                   1.200000e+04  \n",
              "last_session_creation_time  1.402067e+09  \n",
              "opted_in_to_mailing_list    1.000000e+00  \n",
              "enabled_for_marketing_drip  1.000000e+00  \n",
              "org_id                      4.160000e+02  \n",
              "invited_by_user_id          1.199900e+04  "
            ],
            "text/html": [
              "\n",
              "  <div id=\"df-1a78c297-9ae6-4e02-bf84-585158a4b495\">\n",
              "    <div class=\"colab-df-container\">\n",
              "      <div>\n",
              "<style scoped>\n",
              "    .dataframe tbody tr th:only-of-type {\n",
              "        vertical-align: middle;\n",
              "    }\n",
              "\n",
              "    .dataframe tbody tr th {\n",
              "        vertical-align: top;\n",
              "    }\n",
              "\n",
              "    .dataframe thead th {\n",
              "        text-align: right;\n",
              "    }\n",
              "</style>\n",
              "<table border=\"1\" class=\"dataframe\">\n",
              "  <thead>\n",
              "    <tr style=\"text-align: right;\">\n",
              "      <th></th>\n",
              "      <th>count</th>\n",
              "      <th>mean</th>\n",
              "      <th>std</th>\n",
              "      <th>min</th>\n",
              "      <th>25%</th>\n",
              "      <th>50%</th>\n",
              "      <th>75%</th>\n",
              "      <th>max</th>\n",
              "    </tr>\n",
              "  </thead>\n",
              "  <tbody>\n",
              "    <tr>\n",
              "      <th>object_id</th>\n",
              "      <td>12000.0</td>\n",
              "      <td>6.000500e+03</td>\n",
              "      <td>3.464246e+03</td>\n",
              "      <td>1.000000e+00</td>\n",
              "      <td>3.000750e+03</td>\n",
              "      <td>6.000500e+03</td>\n",
              "      <td>9.000250e+03</td>\n",
              "      <td>1.200000e+04</td>\n",
              "    </tr>\n",
              "    <tr>\n",
              "      <th>last_session_creation_time</th>\n",
              "      <td>8823.0</td>\n",
              "      <td>1.379279e+09</td>\n",
              "      <td>1.953116e+07</td>\n",
              "      <td>1.338452e+09</td>\n",
              "      <td>1.363195e+09</td>\n",
              "      <td>1.382888e+09</td>\n",
              "      <td>1.398443e+09</td>\n",
              "      <td>1.402067e+09</td>\n",
              "    </tr>\n",
              "    <tr>\n",
              "      <th>opted_in_to_mailing_list</th>\n",
              "      <td>12000.0</td>\n",
              "      <td>2.495000e-01</td>\n",
              "      <td>4.327417e-01</td>\n",
              "      <td>0.000000e+00</td>\n",
              "      <td>0.000000e+00</td>\n",
              "      <td>0.000000e+00</td>\n",
              "      <td>0.000000e+00</td>\n",
              "      <td>1.000000e+00</td>\n",
              "    </tr>\n",
              "    <tr>\n",
              "      <th>enabled_for_marketing_drip</th>\n",
              "      <td>12000.0</td>\n",
              "      <td>1.493333e-01</td>\n",
              "      <td>3.564316e-01</td>\n",
              "      <td>0.000000e+00</td>\n",
              "      <td>0.000000e+00</td>\n",
              "      <td>0.000000e+00</td>\n",
              "      <td>0.000000e+00</td>\n",
              "      <td>1.000000e+00</td>\n",
              "    </tr>\n",
              "    <tr>\n",
              "      <th>org_id</th>\n",
              "      <td>12000.0</td>\n",
              "      <td>1.418846e+02</td>\n",
              "      <td>1.240567e+02</td>\n",
              "      <td>0.000000e+00</td>\n",
              "      <td>2.900000e+01</td>\n",
              "      <td>1.080000e+02</td>\n",
              "      <td>2.382500e+02</td>\n",
              "      <td>4.160000e+02</td>\n",
              "    </tr>\n",
              "    <tr>\n",
              "      <th>invited_by_user_id</th>\n",
              "      <td>6417.0</td>\n",
              "      <td>5.962957e+03</td>\n",
              "      <td>3.383762e+03</td>\n",
              "      <td>3.000000e+00</td>\n",
              "      <td>3.058000e+03</td>\n",
              "      <td>5.954000e+03</td>\n",
              "      <td>8.817000e+03</td>\n",
              "      <td>1.199900e+04</td>\n",
              "    </tr>\n",
              "  </tbody>\n",
              "</table>\n",
              "</div>\n",
              "      <button class=\"colab-df-convert\" onclick=\"convertToInteractive('df-1a78c297-9ae6-4e02-bf84-585158a4b495')\"\n",
              "              title=\"Convert this dataframe to an interactive table.\"\n",
              "              style=\"display:none;\">\n",
              "        \n",
              "  <svg xmlns=\"http://www.w3.org/2000/svg\" height=\"24px\"viewBox=\"0 0 24 24\"\n",
              "       width=\"24px\">\n",
              "    <path d=\"M0 0h24v24H0V0z\" fill=\"none\"/>\n",
              "    <path d=\"M18.56 5.44l.94 2.06.94-2.06 2.06-.94-2.06-.94-.94-2.06-.94 2.06-2.06.94zm-11 1L8.5 8.5l.94-2.06 2.06-.94-2.06-.94L8.5 2.5l-.94 2.06-2.06.94zm10 10l.94 2.06.94-2.06 2.06-.94-2.06-.94-.94-2.06-.94 2.06-2.06.94z\"/><path d=\"M17.41 7.96l-1.37-1.37c-.4-.4-.92-.59-1.43-.59-.52 0-1.04.2-1.43.59L10.3 9.45l-7.72 7.72c-.78.78-.78 2.05 0 2.83L4 21.41c.39.39.9.59 1.41.59.51 0 1.02-.2 1.41-.59l7.78-7.78 2.81-2.81c.8-.78.8-2.07 0-2.86zM5.41 20L4 18.59l7.72-7.72 1.47 1.35L5.41 20z\"/>\n",
              "  </svg>\n",
              "      </button>\n",
              "      \n",
              "  <style>\n",
              "    .colab-df-container {\n",
              "      display:flex;\n",
              "      flex-wrap:wrap;\n",
              "      gap: 12px;\n",
              "    }\n",
              "\n",
              "    .colab-df-convert {\n",
              "      background-color: #E8F0FE;\n",
              "      border: none;\n",
              "      border-radius: 50%;\n",
              "      cursor: pointer;\n",
              "      display: none;\n",
              "      fill: #1967D2;\n",
              "      height: 32px;\n",
              "      padding: 0 0 0 0;\n",
              "      width: 32px;\n",
              "    }\n",
              "\n",
              "    .colab-df-convert:hover {\n",
              "      background-color: #E2EBFA;\n",
              "      box-shadow: 0px 1px 2px rgba(60, 64, 67, 0.3), 0px 1px 3px 1px rgba(60, 64, 67, 0.15);\n",
              "      fill: #174EA6;\n",
              "    }\n",
              "\n",
              "    [theme=dark] .colab-df-convert {\n",
              "      background-color: #3B4455;\n",
              "      fill: #D2E3FC;\n",
              "    }\n",
              "\n",
              "    [theme=dark] .colab-df-convert:hover {\n",
              "      background-color: #434B5C;\n",
              "      box-shadow: 0px 1px 3px 1px rgba(0, 0, 0, 0.15);\n",
              "      filter: drop-shadow(0px 1px 2px rgba(0, 0, 0, 0.3));\n",
              "      fill: #FFFFFF;\n",
              "    }\n",
              "  </style>\n",
              "\n",
              "      <script>\n",
              "        const buttonEl =\n",
              "          document.querySelector('#df-1a78c297-9ae6-4e02-bf84-585158a4b495 button.colab-df-convert');\n",
              "        buttonEl.style.display =\n",
              "          google.colab.kernel.accessAllowed ? 'block' : 'none';\n",
              "\n",
              "        async function convertToInteractive(key) {\n",
              "          const element = document.querySelector('#df-1a78c297-9ae6-4e02-bf84-585158a4b495');\n",
              "          const dataTable =\n",
              "            await google.colab.kernel.invokeFunction('convertToInteractive',\n",
              "                                                     [key], {});\n",
              "          if (!dataTable) return;\n",
              "\n",
              "          const docLinkHtml = 'Like what you see? Visit the ' +\n",
              "            '<a target=\"_blank\" href=https://colab.research.google.com/notebooks/data_table.ipynb>data table notebook</a>'\n",
              "            + ' to learn more about interactive tables.';\n",
              "          element.innerHTML = '';\n",
              "          dataTable['output_type'] = 'display_data';\n",
              "          await google.colab.output.renderOutput(dataTable, element);\n",
              "          const docLink = document.createElement('div');\n",
              "          docLink.innerHTML = docLinkHtml;\n",
              "          element.appendChild(docLink);\n",
              "        }\n",
              "      </script>\n",
              "    </div>\n",
              "  </div>\n",
              "  "
            ]
          },
          "metadata": {},
          "execution_count": 114
        }
      ]
    },
    {
      "cell_type": "code",
      "source": [
        "user_eng.info()"
      ],
      "metadata": {
        "colab": {
          "base_uri": "https://localhost:8080/"
        },
        "id": "yT4pyS3pGgaW",
        "outputId": "ce7300e7-bf5c-4439-b2c9-472765c1153c"
      },
      "execution_count": null,
      "outputs": [
        {
          "output_type": "stream",
          "name": "stdout",
          "text": [
            "<class 'pandas.core.frame.DataFrame'>\n",
            "RangeIndex: 207917 entries, 0 to 207916\n",
            "Data columns (total 3 columns):\n",
            " #   Column      Non-Null Count   Dtype \n",
            "---  ------      --------------   ----- \n",
            " 0   time_stamp  207917 non-null  object\n",
            " 1   user_id     207917 non-null  int64 \n",
            " 2   visited     207917 non-null  int64 \n",
            "dtypes: int64(2), object(1)\n",
            "memory usage: 4.8+ MB\n"
          ]
        }
      ]
    },
    {
      "cell_type": "code",
      "source": [
        "user_eng.describe().T"
      ],
      "metadata": {
        "colab": {
          "base_uri": "https://localhost:8080/",
          "height": 110
        },
        "id": "9LTU7xseGpUm",
        "outputId": "55d9578a-dac4-44de-b46d-8479a61b5aec"
      },
      "execution_count": null,
      "outputs": [
        {
          "output_type": "execute_result",
          "data": {
            "text/plain": [
              "            count         mean          std  min     25%     50%     75%  \\\n",
              "user_id  207917.0  5913.314197  3394.941674  1.0  3087.0  5682.0  8944.0   \n",
              "visited  207917.0     1.000000     0.000000  1.0     1.0     1.0     1.0   \n",
              "\n",
              "             max  \n",
              "user_id  12000.0  \n",
              "visited      1.0  "
            ],
            "text/html": [
              "\n",
              "  <div id=\"df-d0396980-2fa0-4bfd-a5f7-18200c502ba6\">\n",
              "    <div class=\"colab-df-container\">\n",
              "      <div>\n",
              "<style scoped>\n",
              "    .dataframe tbody tr th:only-of-type {\n",
              "        vertical-align: middle;\n",
              "    }\n",
              "\n",
              "    .dataframe tbody tr th {\n",
              "        vertical-align: top;\n",
              "    }\n",
              "\n",
              "    .dataframe thead th {\n",
              "        text-align: right;\n",
              "    }\n",
              "</style>\n",
              "<table border=\"1\" class=\"dataframe\">\n",
              "  <thead>\n",
              "    <tr style=\"text-align: right;\">\n",
              "      <th></th>\n",
              "      <th>count</th>\n",
              "      <th>mean</th>\n",
              "      <th>std</th>\n",
              "      <th>min</th>\n",
              "      <th>25%</th>\n",
              "      <th>50%</th>\n",
              "      <th>75%</th>\n",
              "      <th>max</th>\n",
              "    </tr>\n",
              "  </thead>\n",
              "  <tbody>\n",
              "    <tr>\n",
              "      <th>user_id</th>\n",
              "      <td>207917.0</td>\n",
              "      <td>5913.314197</td>\n",
              "      <td>3394.941674</td>\n",
              "      <td>1.0</td>\n",
              "      <td>3087.0</td>\n",
              "      <td>5682.0</td>\n",
              "      <td>8944.0</td>\n",
              "      <td>12000.0</td>\n",
              "    </tr>\n",
              "    <tr>\n",
              "      <th>visited</th>\n",
              "      <td>207917.0</td>\n",
              "      <td>1.000000</td>\n",
              "      <td>0.000000</td>\n",
              "      <td>1.0</td>\n",
              "      <td>1.0</td>\n",
              "      <td>1.0</td>\n",
              "      <td>1.0</td>\n",
              "      <td>1.0</td>\n",
              "    </tr>\n",
              "  </tbody>\n",
              "</table>\n",
              "</div>\n",
              "      <button class=\"colab-df-convert\" onclick=\"convertToInteractive('df-d0396980-2fa0-4bfd-a5f7-18200c502ba6')\"\n",
              "              title=\"Convert this dataframe to an interactive table.\"\n",
              "              style=\"display:none;\">\n",
              "        \n",
              "  <svg xmlns=\"http://www.w3.org/2000/svg\" height=\"24px\"viewBox=\"0 0 24 24\"\n",
              "       width=\"24px\">\n",
              "    <path d=\"M0 0h24v24H0V0z\" fill=\"none\"/>\n",
              "    <path d=\"M18.56 5.44l.94 2.06.94-2.06 2.06-.94-2.06-.94-.94-2.06-.94 2.06-2.06.94zm-11 1L8.5 8.5l.94-2.06 2.06-.94-2.06-.94L8.5 2.5l-.94 2.06-2.06.94zm10 10l.94 2.06.94-2.06 2.06-.94-2.06-.94-.94-2.06-.94 2.06-2.06.94z\"/><path d=\"M17.41 7.96l-1.37-1.37c-.4-.4-.92-.59-1.43-.59-.52 0-1.04.2-1.43.59L10.3 9.45l-7.72 7.72c-.78.78-.78 2.05 0 2.83L4 21.41c.39.39.9.59 1.41.59.51 0 1.02-.2 1.41-.59l7.78-7.78 2.81-2.81c.8-.78.8-2.07 0-2.86zM5.41 20L4 18.59l7.72-7.72 1.47 1.35L5.41 20z\"/>\n",
              "  </svg>\n",
              "      </button>\n",
              "      \n",
              "  <style>\n",
              "    .colab-df-container {\n",
              "      display:flex;\n",
              "      flex-wrap:wrap;\n",
              "      gap: 12px;\n",
              "    }\n",
              "\n",
              "    .colab-df-convert {\n",
              "      background-color: #E8F0FE;\n",
              "      border: none;\n",
              "      border-radius: 50%;\n",
              "      cursor: pointer;\n",
              "      display: none;\n",
              "      fill: #1967D2;\n",
              "      height: 32px;\n",
              "      padding: 0 0 0 0;\n",
              "      width: 32px;\n",
              "    }\n",
              "\n",
              "    .colab-df-convert:hover {\n",
              "      background-color: #E2EBFA;\n",
              "      box-shadow: 0px 1px 2px rgba(60, 64, 67, 0.3), 0px 1px 3px 1px rgba(60, 64, 67, 0.15);\n",
              "      fill: #174EA6;\n",
              "    }\n",
              "\n",
              "    [theme=dark] .colab-df-convert {\n",
              "      background-color: #3B4455;\n",
              "      fill: #D2E3FC;\n",
              "    }\n",
              "\n",
              "    [theme=dark] .colab-df-convert:hover {\n",
              "      background-color: #434B5C;\n",
              "      box-shadow: 0px 1px 3px 1px rgba(0, 0, 0, 0.15);\n",
              "      filter: drop-shadow(0px 1px 2px rgba(0, 0, 0, 0.3));\n",
              "      fill: #FFFFFF;\n",
              "    }\n",
              "  </style>\n",
              "\n",
              "      <script>\n",
              "        const buttonEl =\n",
              "          document.querySelector('#df-d0396980-2fa0-4bfd-a5f7-18200c502ba6 button.colab-df-convert');\n",
              "        buttonEl.style.display =\n",
              "          google.colab.kernel.accessAllowed ? 'block' : 'none';\n",
              "\n",
              "        async function convertToInteractive(key) {\n",
              "          const element = document.querySelector('#df-d0396980-2fa0-4bfd-a5f7-18200c502ba6');\n",
              "          const dataTable =\n",
              "            await google.colab.kernel.invokeFunction('convertToInteractive',\n",
              "                                                     [key], {});\n",
              "          if (!dataTable) return;\n",
              "\n",
              "          const docLinkHtml = 'Like what you see? Visit the ' +\n",
              "            '<a target=\"_blank\" href=https://colab.research.google.com/notebooks/data_table.ipynb>data table notebook</a>'\n",
              "            + ' to learn more about interactive tables.';\n",
              "          element.innerHTML = '';\n",
              "          dataTable['output_type'] = 'display_data';\n",
              "          await google.colab.output.renderOutput(dataTable, element);\n",
              "          const docLink = document.createElement('div');\n",
              "          docLink.innerHTML = docLinkHtml;\n",
              "          element.appendChild(docLink);\n",
              "        }\n",
              "      </script>\n",
              "    </div>\n",
              "  </div>\n",
              "  "
            ]
          },
          "metadata": {},
          "execution_count": 116
        }
      ]
    },
    {
      "cell_type": "code",
      "source": [
        "user_eng.user_id.nunique()"
      ],
      "metadata": {
        "colab": {
          "base_uri": "https://localhost:8080/"
        },
        "id": "cTRSFGwhGpFN",
        "outputId": "a9802efc-4135-4725-a852-82b2200f90d5"
      },
      "execution_count": null,
      "outputs": [
        {
          "output_type": "execute_result",
          "data": {
            "text/plain": [
              "8823"
            ]
          },
          "metadata": {},
          "execution_count": 117
        }
      ]
    },
    {
      "cell_type": "code",
      "source": [
        "users.head()"
      ],
      "metadata": {
        "colab": {
          "base_uri": "https://localhost:8080/",
          "height": 351
        },
        "id": "xSo_hgCLHJl5",
        "outputId": "2461d296-3d74-4cac-abf6-76c27739e2e2"
      },
      "execution_count": null,
      "outputs": [
        {
          "output_type": "execute_result",
          "data": {
            "text/plain": [
              "   object_id        creation_time               name  \\\n",
              "0          1  2014-04-22 03:53:30     Clausen August   \n",
              "1          2  2013-11-15 03:45:04      Poole Matthew   \n",
              "2          3  2013-03-19 23:14:52  Bottrill Mitchell   \n",
              "3          4  2013-05-21 08:09:28    Clausen Nicklas   \n",
              "4          5  2013-01-17 10:14:20          Raw Grace   \n",
              "\n",
              "                        email creation_source  last_session_creation_time  \\\n",
              "0    AugustCClausen@yahoo.com    GUEST_INVITE                1.398139e+09   \n",
              "1      MatthewPoole@gustr.com      ORG_INVITE                1.396238e+09   \n",
              "2  MitchellBottrill@gustr.com      ORG_INVITE                1.363735e+09   \n",
              "3   NicklasSClausen@yahoo.com    GUEST_INVITE                1.369210e+09   \n",
              "4          GraceRaw@yahoo.com    GUEST_INVITE                1.358850e+09   \n",
              "\n",
              "   opted_in_to_mailing_list  enabled_for_marketing_drip  org_id  \\\n",
              "0                         1                           0      11   \n",
              "1                         0                           0       1   \n",
              "2                         0                           0      94   \n",
              "3                         0                           0       1   \n",
              "4                         0                           0     193   \n",
              "\n",
              "   invited_by_user_id  \n",
              "0             10803.0  \n",
              "1               316.0  \n",
              "2              1525.0  \n",
              "3              5151.0  \n",
              "4              5240.0  "
            ],
            "text/html": [
              "\n",
              "  <div id=\"df-0243e9b2-c6f8-4201-a468-f35795a98c8d\">\n",
              "    <div class=\"colab-df-container\">\n",
              "      <div>\n",
              "<style scoped>\n",
              "    .dataframe tbody tr th:only-of-type {\n",
              "        vertical-align: middle;\n",
              "    }\n",
              "\n",
              "    .dataframe tbody tr th {\n",
              "        vertical-align: top;\n",
              "    }\n",
              "\n",
              "    .dataframe thead th {\n",
              "        text-align: right;\n",
              "    }\n",
              "</style>\n",
              "<table border=\"1\" class=\"dataframe\">\n",
              "  <thead>\n",
              "    <tr style=\"text-align: right;\">\n",
              "      <th></th>\n",
              "      <th>object_id</th>\n",
              "      <th>creation_time</th>\n",
              "      <th>name</th>\n",
              "      <th>email</th>\n",
              "      <th>creation_source</th>\n",
              "      <th>last_session_creation_time</th>\n",
              "      <th>opted_in_to_mailing_list</th>\n",
              "      <th>enabled_for_marketing_drip</th>\n",
              "      <th>org_id</th>\n",
              "      <th>invited_by_user_id</th>\n",
              "    </tr>\n",
              "  </thead>\n",
              "  <tbody>\n",
              "    <tr>\n",
              "      <th>0</th>\n",
              "      <td>1</td>\n",
              "      <td>2014-04-22 03:53:30</td>\n",
              "      <td>Clausen August</td>\n",
              "      <td>AugustCClausen@yahoo.com</td>\n",
              "      <td>GUEST_INVITE</td>\n",
              "      <td>1.398139e+09</td>\n",
              "      <td>1</td>\n",
              "      <td>0</td>\n",
              "      <td>11</td>\n",
              "      <td>10803.0</td>\n",
              "    </tr>\n",
              "    <tr>\n",
              "      <th>1</th>\n",
              "      <td>2</td>\n",
              "      <td>2013-11-15 03:45:04</td>\n",
              "      <td>Poole Matthew</td>\n",
              "      <td>MatthewPoole@gustr.com</td>\n",
              "      <td>ORG_INVITE</td>\n",
              "      <td>1.396238e+09</td>\n",
              "      <td>0</td>\n",
              "      <td>0</td>\n",
              "      <td>1</td>\n",
              "      <td>316.0</td>\n",
              "    </tr>\n",
              "    <tr>\n",
              "      <th>2</th>\n",
              "      <td>3</td>\n",
              "      <td>2013-03-19 23:14:52</td>\n",
              "      <td>Bottrill Mitchell</td>\n",
              "      <td>MitchellBottrill@gustr.com</td>\n",
              "      <td>ORG_INVITE</td>\n",
              "      <td>1.363735e+09</td>\n",
              "      <td>0</td>\n",
              "      <td>0</td>\n",
              "      <td>94</td>\n",
              "      <td>1525.0</td>\n",
              "    </tr>\n",
              "    <tr>\n",
              "      <th>3</th>\n",
              "      <td>4</td>\n",
              "      <td>2013-05-21 08:09:28</td>\n",
              "      <td>Clausen Nicklas</td>\n",
              "      <td>NicklasSClausen@yahoo.com</td>\n",
              "      <td>GUEST_INVITE</td>\n",
              "      <td>1.369210e+09</td>\n",
              "      <td>0</td>\n",
              "      <td>0</td>\n",
              "      <td>1</td>\n",
              "      <td>5151.0</td>\n",
              "    </tr>\n",
              "    <tr>\n",
              "      <th>4</th>\n",
              "      <td>5</td>\n",
              "      <td>2013-01-17 10:14:20</td>\n",
              "      <td>Raw Grace</td>\n",
              "      <td>GraceRaw@yahoo.com</td>\n",
              "      <td>GUEST_INVITE</td>\n",
              "      <td>1.358850e+09</td>\n",
              "      <td>0</td>\n",
              "      <td>0</td>\n",
              "      <td>193</td>\n",
              "      <td>5240.0</td>\n",
              "    </tr>\n",
              "  </tbody>\n",
              "</table>\n",
              "</div>\n",
              "      <button class=\"colab-df-convert\" onclick=\"convertToInteractive('df-0243e9b2-c6f8-4201-a468-f35795a98c8d')\"\n",
              "              title=\"Convert this dataframe to an interactive table.\"\n",
              "              style=\"display:none;\">\n",
              "        \n",
              "  <svg xmlns=\"http://www.w3.org/2000/svg\" height=\"24px\"viewBox=\"0 0 24 24\"\n",
              "       width=\"24px\">\n",
              "    <path d=\"M0 0h24v24H0V0z\" fill=\"none\"/>\n",
              "    <path d=\"M18.56 5.44l.94 2.06.94-2.06 2.06-.94-2.06-.94-.94-2.06-.94 2.06-2.06.94zm-11 1L8.5 8.5l.94-2.06 2.06-.94-2.06-.94L8.5 2.5l-.94 2.06-2.06.94zm10 10l.94 2.06.94-2.06 2.06-.94-2.06-.94-.94-2.06-.94 2.06-2.06.94z\"/><path d=\"M17.41 7.96l-1.37-1.37c-.4-.4-.92-.59-1.43-.59-.52 0-1.04.2-1.43.59L10.3 9.45l-7.72 7.72c-.78.78-.78 2.05 0 2.83L4 21.41c.39.39.9.59 1.41.59.51 0 1.02-.2 1.41-.59l7.78-7.78 2.81-2.81c.8-.78.8-2.07 0-2.86zM5.41 20L4 18.59l7.72-7.72 1.47 1.35L5.41 20z\"/>\n",
              "  </svg>\n",
              "      </button>\n",
              "      \n",
              "  <style>\n",
              "    .colab-df-container {\n",
              "      display:flex;\n",
              "      flex-wrap:wrap;\n",
              "      gap: 12px;\n",
              "    }\n",
              "\n",
              "    .colab-df-convert {\n",
              "      background-color: #E8F0FE;\n",
              "      border: none;\n",
              "      border-radius: 50%;\n",
              "      cursor: pointer;\n",
              "      display: none;\n",
              "      fill: #1967D2;\n",
              "      height: 32px;\n",
              "      padding: 0 0 0 0;\n",
              "      width: 32px;\n",
              "    }\n",
              "\n",
              "    .colab-df-convert:hover {\n",
              "      background-color: #E2EBFA;\n",
              "      box-shadow: 0px 1px 2px rgba(60, 64, 67, 0.3), 0px 1px 3px 1px rgba(60, 64, 67, 0.15);\n",
              "      fill: #174EA6;\n",
              "    }\n",
              "\n",
              "    [theme=dark] .colab-df-convert {\n",
              "      background-color: #3B4455;\n",
              "      fill: #D2E3FC;\n",
              "    }\n",
              "\n",
              "    [theme=dark] .colab-df-convert:hover {\n",
              "      background-color: #434B5C;\n",
              "      box-shadow: 0px 1px 3px 1px rgba(0, 0, 0, 0.15);\n",
              "      filter: drop-shadow(0px 1px 2px rgba(0, 0, 0, 0.3));\n",
              "      fill: #FFFFFF;\n",
              "    }\n",
              "  </style>\n",
              "\n",
              "      <script>\n",
              "        const buttonEl =\n",
              "          document.querySelector('#df-0243e9b2-c6f8-4201-a468-f35795a98c8d button.colab-df-convert');\n",
              "        buttonEl.style.display =\n",
              "          google.colab.kernel.accessAllowed ? 'block' : 'none';\n",
              "\n",
              "        async function convertToInteractive(key) {\n",
              "          const element = document.querySelector('#df-0243e9b2-c6f8-4201-a468-f35795a98c8d');\n",
              "          const dataTable =\n",
              "            await google.colab.kernel.invokeFunction('convertToInteractive',\n",
              "                                                     [key], {});\n",
              "          if (!dataTable) return;\n",
              "\n",
              "          const docLinkHtml = 'Like what you see? Visit the ' +\n",
              "            '<a target=\"_blank\" href=https://colab.research.google.com/notebooks/data_table.ipynb>data table notebook</a>'\n",
              "            + ' to learn more about interactive tables.';\n",
              "          element.innerHTML = '';\n",
              "          dataTable['output_type'] = 'display_data';\n",
              "          await google.colab.output.renderOutput(dataTable, element);\n",
              "          const docLink = document.createElement('div');\n",
              "          docLink.innerHTML = docLinkHtml;\n",
              "          element.appendChild(docLink);\n",
              "        }\n",
              "      </script>\n",
              "    </div>\n",
              "  </div>\n",
              "  "
            ]
          },
          "metadata": {},
          "execution_count": 118
        }
      ]
    },
    {
      "cell_type": "code",
      "source": [
        "user_eng.head()"
      ],
      "metadata": {
        "colab": {
          "base_uri": "https://localhost:8080/",
          "height": 203
        },
        "id": "v3RBOZGxHJiy",
        "outputId": "531aee5d-aedd-4366-bbd9-b76ce3ae7bd8"
      },
      "execution_count": null,
      "outputs": [
        {
          "output_type": "execute_result",
          "data": {
            "text/plain": [
              "            time_stamp  user_id  visited\n",
              "0  2014-04-22 03:53:30        1        1\n",
              "1  2013-11-15 03:45:04        2        1\n",
              "2  2013-11-29 03:45:04        2        1\n",
              "3  2013-12-09 03:45:04        2        1\n",
              "4  2013-12-25 03:45:04        2        1"
            ],
            "text/html": [
              "\n",
              "  <div id=\"df-f9f1bfd9-d071-46aa-b8b2-970be6eae349\">\n",
              "    <div class=\"colab-df-container\">\n",
              "      <div>\n",
              "<style scoped>\n",
              "    .dataframe tbody tr th:only-of-type {\n",
              "        vertical-align: middle;\n",
              "    }\n",
              "\n",
              "    .dataframe tbody tr th {\n",
              "        vertical-align: top;\n",
              "    }\n",
              "\n",
              "    .dataframe thead th {\n",
              "        text-align: right;\n",
              "    }\n",
              "</style>\n",
              "<table border=\"1\" class=\"dataframe\">\n",
              "  <thead>\n",
              "    <tr style=\"text-align: right;\">\n",
              "      <th></th>\n",
              "      <th>time_stamp</th>\n",
              "      <th>user_id</th>\n",
              "      <th>visited</th>\n",
              "    </tr>\n",
              "  </thead>\n",
              "  <tbody>\n",
              "    <tr>\n",
              "      <th>0</th>\n",
              "      <td>2014-04-22 03:53:30</td>\n",
              "      <td>1</td>\n",
              "      <td>1</td>\n",
              "    </tr>\n",
              "    <tr>\n",
              "      <th>1</th>\n",
              "      <td>2013-11-15 03:45:04</td>\n",
              "      <td>2</td>\n",
              "      <td>1</td>\n",
              "    </tr>\n",
              "    <tr>\n",
              "      <th>2</th>\n",
              "      <td>2013-11-29 03:45:04</td>\n",
              "      <td>2</td>\n",
              "      <td>1</td>\n",
              "    </tr>\n",
              "    <tr>\n",
              "      <th>3</th>\n",
              "      <td>2013-12-09 03:45:04</td>\n",
              "      <td>2</td>\n",
              "      <td>1</td>\n",
              "    </tr>\n",
              "    <tr>\n",
              "      <th>4</th>\n",
              "      <td>2013-12-25 03:45:04</td>\n",
              "      <td>2</td>\n",
              "      <td>1</td>\n",
              "    </tr>\n",
              "  </tbody>\n",
              "</table>\n",
              "</div>\n",
              "      <button class=\"colab-df-convert\" onclick=\"convertToInteractive('df-f9f1bfd9-d071-46aa-b8b2-970be6eae349')\"\n",
              "              title=\"Convert this dataframe to an interactive table.\"\n",
              "              style=\"display:none;\">\n",
              "        \n",
              "  <svg xmlns=\"http://www.w3.org/2000/svg\" height=\"24px\"viewBox=\"0 0 24 24\"\n",
              "       width=\"24px\">\n",
              "    <path d=\"M0 0h24v24H0V0z\" fill=\"none\"/>\n",
              "    <path d=\"M18.56 5.44l.94 2.06.94-2.06 2.06-.94-2.06-.94-.94-2.06-.94 2.06-2.06.94zm-11 1L8.5 8.5l.94-2.06 2.06-.94-2.06-.94L8.5 2.5l-.94 2.06-2.06.94zm10 10l.94 2.06.94-2.06 2.06-.94-2.06-.94-.94-2.06-.94 2.06-2.06.94z\"/><path d=\"M17.41 7.96l-1.37-1.37c-.4-.4-.92-.59-1.43-.59-.52 0-1.04.2-1.43.59L10.3 9.45l-7.72 7.72c-.78.78-.78 2.05 0 2.83L4 21.41c.39.39.9.59 1.41.59.51 0 1.02-.2 1.41-.59l7.78-7.78 2.81-2.81c.8-.78.8-2.07 0-2.86zM5.41 20L4 18.59l7.72-7.72 1.47 1.35L5.41 20z\"/>\n",
              "  </svg>\n",
              "      </button>\n",
              "      \n",
              "  <style>\n",
              "    .colab-df-container {\n",
              "      display:flex;\n",
              "      flex-wrap:wrap;\n",
              "      gap: 12px;\n",
              "    }\n",
              "\n",
              "    .colab-df-convert {\n",
              "      background-color: #E8F0FE;\n",
              "      border: none;\n",
              "      border-radius: 50%;\n",
              "      cursor: pointer;\n",
              "      display: none;\n",
              "      fill: #1967D2;\n",
              "      height: 32px;\n",
              "      padding: 0 0 0 0;\n",
              "      width: 32px;\n",
              "    }\n",
              "\n",
              "    .colab-df-convert:hover {\n",
              "      background-color: #E2EBFA;\n",
              "      box-shadow: 0px 1px 2px rgba(60, 64, 67, 0.3), 0px 1px 3px 1px rgba(60, 64, 67, 0.15);\n",
              "      fill: #174EA6;\n",
              "    }\n",
              "\n",
              "    [theme=dark] .colab-df-convert {\n",
              "      background-color: #3B4455;\n",
              "      fill: #D2E3FC;\n",
              "    }\n",
              "\n",
              "    [theme=dark] .colab-df-convert:hover {\n",
              "      background-color: #434B5C;\n",
              "      box-shadow: 0px 1px 3px 1px rgba(0, 0, 0, 0.15);\n",
              "      filter: drop-shadow(0px 1px 2px rgba(0, 0, 0, 0.3));\n",
              "      fill: #FFFFFF;\n",
              "    }\n",
              "  </style>\n",
              "\n",
              "      <script>\n",
              "        const buttonEl =\n",
              "          document.querySelector('#df-f9f1bfd9-d071-46aa-b8b2-970be6eae349 button.colab-df-convert');\n",
              "        buttonEl.style.display =\n",
              "          google.colab.kernel.accessAllowed ? 'block' : 'none';\n",
              "\n",
              "        async function convertToInteractive(key) {\n",
              "          const element = document.querySelector('#df-f9f1bfd9-d071-46aa-b8b2-970be6eae349');\n",
              "          const dataTable =\n",
              "            await google.colab.kernel.invokeFunction('convertToInteractive',\n",
              "                                                     [key], {});\n",
              "          if (!dataTable) return;\n",
              "\n",
              "          const docLinkHtml = 'Like what you see? Visit the ' +\n",
              "            '<a target=\"_blank\" href=https://colab.research.google.com/notebooks/data_table.ipynb>data table notebook</a>'\n",
              "            + ' to learn more about interactive tables.';\n",
              "          element.innerHTML = '';\n",
              "          dataTable['output_type'] = 'display_data';\n",
              "          await google.colab.output.renderOutput(dataTable, element);\n",
              "          const docLink = document.createElement('div');\n",
              "          docLink.innerHTML = docLinkHtml;\n",
              "          element.appendChild(docLink);\n",
              "        }\n",
              "      </script>\n",
              "    </div>\n",
              "  </div>\n",
              "  "
            ]
          },
          "metadata": {},
          "execution_count": 119
        }
      ]
    },
    {
      "cell_type": "markdown",
      "source": [
        "users dataframe has some null values in the last_session_creation_time and invited_by_user_id columns. We will deal with the missing values later.\n",
        "\n",
        "user_eng dataframe seems to be sorted according to the user_id and time_stamp column and there is data for 8823 users out of the total 12000 users registered under the users dataframe."
      ],
      "metadata": {
        "id": "dG83-3_PHXC1"
      }
    },
    {
      "cell_type": "code",
      "source": [
        "users['last_session_creation_time'] = pd.to_datetime(users['last_session_creation_time'] ,unit='s')"
      ],
      "metadata": {
        "id": "m8wfc7HBHJfu"
      },
      "execution_count": null,
      "outputs": []
    },
    {
      "cell_type": "code",
      "source": [
        "users.last_session_creation_time.dtypes"
      ],
      "metadata": {
        "colab": {
          "base_uri": "https://localhost:8080/"
        },
        "id": "b7s25Wr5HJca",
        "outputId": "7bec4a58-984e-4f63-8acc-3c8f34e09bd6"
      },
      "execution_count": null,
      "outputs": [
        {
          "output_type": "execute_result",
          "data": {
            "text/plain": [
              "dtype('<M8[ns]')"
            ]
          },
          "metadata": {},
          "execution_count": 121
        }
      ]
    },
    {
      "cell_type": "code",
      "source": [
        "users.head(3)"
      ],
      "metadata": {
        "colab": {
          "base_uri": "https://localhost:8080/",
          "height": 256
        },
        "id": "VNh6ynX9HJZe",
        "outputId": "c41fbe5e-1bad-441e-f402-c84d8f75e39c"
      },
      "execution_count": null,
      "outputs": [
        {
          "output_type": "execute_result",
          "data": {
            "text/plain": [
              "   object_id        creation_time               name  \\\n",
              "0          1  2014-04-22 03:53:30     Clausen August   \n",
              "1          2  2013-11-15 03:45:04      Poole Matthew   \n",
              "2          3  2013-03-19 23:14:52  Bottrill Mitchell   \n",
              "\n",
              "                        email creation_source last_session_creation_time  \\\n",
              "0    AugustCClausen@yahoo.com    GUEST_INVITE        2014-04-22 03:53:30   \n",
              "1      MatthewPoole@gustr.com      ORG_INVITE        2014-03-31 03:45:04   \n",
              "2  MitchellBottrill@gustr.com      ORG_INVITE        2013-03-19 23:14:52   \n",
              "\n",
              "   opted_in_to_mailing_list  enabled_for_marketing_drip  org_id  \\\n",
              "0                         1                           0      11   \n",
              "1                         0                           0       1   \n",
              "2                         0                           0      94   \n",
              "\n",
              "   invited_by_user_id  \n",
              "0             10803.0  \n",
              "1               316.0  \n",
              "2              1525.0  "
            ],
            "text/html": [
              "\n",
              "  <div id=\"df-a7c26748-d842-4399-a9fb-a9189f027c9a\">\n",
              "    <div class=\"colab-df-container\">\n",
              "      <div>\n",
              "<style scoped>\n",
              "    .dataframe tbody tr th:only-of-type {\n",
              "        vertical-align: middle;\n",
              "    }\n",
              "\n",
              "    .dataframe tbody tr th {\n",
              "        vertical-align: top;\n",
              "    }\n",
              "\n",
              "    .dataframe thead th {\n",
              "        text-align: right;\n",
              "    }\n",
              "</style>\n",
              "<table border=\"1\" class=\"dataframe\">\n",
              "  <thead>\n",
              "    <tr style=\"text-align: right;\">\n",
              "      <th></th>\n",
              "      <th>object_id</th>\n",
              "      <th>creation_time</th>\n",
              "      <th>name</th>\n",
              "      <th>email</th>\n",
              "      <th>creation_source</th>\n",
              "      <th>last_session_creation_time</th>\n",
              "      <th>opted_in_to_mailing_list</th>\n",
              "      <th>enabled_for_marketing_drip</th>\n",
              "      <th>org_id</th>\n",
              "      <th>invited_by_user_id</th>\n",
              "    </tr>\n",
              "  </thead>\n",
              "  <tbody>\n",
              "    <tr>\n",
              "      <th>0</th>\n",
              "      <td>1</td>\n",
              "      <td>2014-04-22 03:53:30</td>\n",
              "      <td>Clausen August</td>\n",
              "      <td>AugustCClausen@yahoo.com</td>\n",
              "      <td>GUEST_INVITE</td>\n",
              "      <td>2014-04-22 03:53:30</td>\n",
              "      <td>1</td>\n",
              "      <td>0</td>\n",
              "      <td>11</td>\n",
              "      <td>10803.0</td>\n",
              "    </tr>\n",
              "    <tr>\n",
              "      <th>1</th>\n",
              "      <td>2</td>\n",
              "      <td>2013-11-15 03:45:04</td>\n",
              "      <td>Poole Matthew</td>\n",
              "      <td>MatthewPoole@gustr.com</td>\n",
              "      <td>ORG_INVITE</td>\n",
              "      <td>2014-03-31 03:45:04</td>\n",
              "      <td>0</td>\n",
              "      <td>0</td>\n",
              "      <td>1</td>\n",
              "      <td>316.0</td>\n",
              "    </tr>\n",
              "    <tr>\n",
              "      <th>2</th>\n",
              "      <td>3</td>\n",
              "      <td>2013-03-19 23:14:52</td>\n",
              "      <td>Bottrill Mitchell</td>\n",
              "      <td>MitchellBottrill@gustr.com</td>\n",
              "      <td>ORG_INVITE</td>\n",
              "      <td>2013-03-19 23:14:52</td>\n",
              "      <td>0</td>\n",
              "      <td>0</td>\n",
              "      <td>94</td>\n",
              "      <td>1525.0</td>\n",
              "    </tr>\n",
              "  </tbody>\n",
              "</table>\n",
              "</div>\n",
              "      <button class=\"colab-df-convert\" onclick=\"convertToInteractive('df-a7c26748-d842-4399-a9fb-a9189f027c9a')\"\n",
              "              title=\"Convert this dataframe to an interactive table.\"\n",
              "              style=\"display:none;\">\n",
              "        \n",
              "  <svg xmlns=\"http://www.w3.org/2000/svg\" height=\"24px\"viewBox=\"0 0 24 24\"\n",
              "       width=\"24px\">\n",
              "    <path d=\"M0 0h24v24H0V0z\" fill=\"none\"/>\n",
              "    <path d=\"M18.56 5.44l.94 2.06.94-2.06 2.06-.94-2.06-.94-.94-2.06-.94 2.06-2.06.94zm-11 1L8.5 8.5l.94-2.06 2.06-.94-2.06-.94L8.5 2.5l-.94 2.06-2.06.94zm10 10l.94 2.06.94-2.06 2.06-.94-2.06-.94-.94-2.06-.94 2.06-2.06.94z\"/><path d=\"M17.41 7.96l-1.37-1.37c-.4-.4-.92-.59-1.43-.59-.52 0-1.04.2-1.43.59L10.3 9.45l-7.72 7.72c-.78.78-.78 2.05 0 2.83L4 21.41c.39.39.9.59 1.41.59.51 0 1.02-.2 1.41-.59l7.78-7.78 2.81-2.81c.8-.78.8-2.07 0-2.86zM5.41 20L4 18.59l7.72-7.72 1.47 1.35L5.41 20z\"/>\n",
              "  </svg>\n",
              "      </button>\n",
              "      \n",
              "  <style>\n",
              "    .colab-df-container {\n",
              "      display:flex;\n",
              "      flex-wrap:wrap;\n",
              "      gap: 12px;\n",
              "    }\n",
              "\n",
              "    .colab-df-convert {\n",
              "      background-color: #E8F0FE;\n",
              "      border: none;\n",
              "      border-radius: 50%;\n",
              "      cursor: pointer;\n",
              "      display: none;\n",
              "      fill: #1967D2;\n",
              "      height: 32px;\n",
              "      padding: 0 0 0 0;\n",
              "      width: 32px;\n",
              "    }\n",
              "\n",
              "    .colab-df-convert:hover {\n",
              "      background-color: #E2EBFA;\n",
              "      box-shadow: 0px 1px 2px rgba(60, 64, 67, 0.3), 0px 1px 3px 1px rgba(60, 64, 67, 0.15);\n",
              "      fill: #174EA6;\n",
              "    }\n",
              "\n",
              "    [theme=dark] .colab-df-convert {\n",
              "      background-color: #3B4455;\n",
              "      fill: #D2E3FC;\n",
              "    }\n",
              "\n",
              "    [theme=dark] .colab-df-convert:hover {\n",
              "      background-color: #434B5C;\n",
              "      box-shadow: 0px 1px 3px 1px rgba(0, 0, 0, 0.15);\n",
              "      filter: drop-shadow(0px 1px 2px rgba(0, 0, 0, 0.3));\n",
              "      fill: #FFFFFF;\n",
              "    }\n",
              "  </style>\n",
              "\n",
              "      <script>\n",
              "        const buttonEl =\n",
              "          document.querySelector('#df-a7c26748-d842-4399-a9fb-a9189f027c9a button.colab-df-convert');\n",
              "        buttonEl.style.display =\n",
              "          google.colab.kernel.accessAllowed ? 'block' : 'none';\n",
              "\n",
              "        async function convertToInteractive(key) {\n",
              "          const element = document.querySelector('#df-a7c26748-d842-4399-a9fb-a9189f027c9a');\n",
              "          const dataTable =\n",
              "            await google.colab.kernel.invokeFunction('convertToInteractive',\n",
              "                                                     [key], {});\n",
              "          if (!dataTable) return;\n",
              "\n",
              "          const docLinkHtml = 'Like what you see? Visit the ' +\n",
              "            '<a target=\"_blank\" href=https://colab.research.google.com/notebooks/data_table.ipynb>data table notebook</a>'\n",
              "            + ' to learn more about interactive tables.';\n",
              "          element.innerHTML = '';\n",
              "          dataTable['output_type'] = 'display_data';\n",
              "          await google.colab.output.renderOutput(dataTable, element);\n",
              "          const docLink = document.createElement('div');\n",
              "          docLink.innerHTML = docLinkHtml;\n",
              "          element.appendChild(docLink);\n",
              "        }\n",
              "      </script>\n",
              "    </div>\n",
              "  </div>\n",
              "  "
            ]
          },
          "metadata": {},
          "execution_count": 122
        }
      ]
    },
    {
      "cell_type": "code",
      "source": [
        "users['last_session_creation_time'].min(), users['last_session_creation_time'].max()"
      ],
      "metadata": {
        "colab": {
          "base_uri": "https://localhost:8080/"
        },
        "id": "CeaTCMWmHJWh",
        "outputId": "4ad15ef2-8d4d-40fd-ba81-b98bf6226c58"
      },
      "execution_count": null,
      "outputs": [
        {
          "output_type": "execute_result",
          "data": {
            "text/plain": [
              "(Timestamp('2012-05-31 08:20:06'), Timestamp('2014-06-06 14:58:50'))"
            ]
          },
          "metadata": {},
          "execution_count": 123
        }
      ]
    },
    {
      "cell_type": "code",
      "source": [
        "users['creation_time'].min(), users['creation_time'].max()"
      ],
      "metadata": {
        "colab": {
          "base_uri": "https://localhost:8080/"
        },
        "id": "LwPqcHttHJKZ",
        "outputId": "26b00dcd-4113-47d1-8bb9-c4de448b4d31"
      },
      "execution_count": null,
      "outputs": [
        {
          "output_type": "execute_result",
          "data": {
            "text/plain": [
              "('2012-05-31 00:43:27', '2014-05-30 23:59:19')"
            ]
          },
          "metadata": {},
          "execution_count": 124
        }
      ]
    },
    {
      "cell_type": "markdown",
      "source": [
        "For determining which users can be labeled as adopted users, we can use groupby and rolling methods to find the users who were active for more than 3 days in any of the 7 day rolling period."
      ],
      "metadata": {
        "id": "uyLabbxxHtPm"
      }
    },
    {
      "cell_type": "code",
      "source": [
        "df = user_eng.copy()"
      ],
      "metadata": {
        "id": "9uYvt4EmHJII"
      },
      "execution_count": null,
      "outputs": []
    },
    {
      "cell_type": "code",
      "source": [
        "df['date'] = pd.to_datetime(df.time_stamp, format='%Y-%m-%d %H:%M:%S')"
      ],
      "metadata": {
        "id": "R2BDNth-KJO6"
      },
      "execution_count": null,
      "outputs": []
    },
    {
      "cell_type": "code",
      "source": [
        "def rolling_count(df_group, frequency):\n",
        "    return df_group.rolling(frequency, on='date')['user_id'].count()"
      ],
      "metadata": {
        "id": "vgDBi9W0Kab4"
      },
      "execution_count": null,
      "outputs": []
    },
    {
      "cell_type": "code",
      "source": [
        "df['visits_7_days'] = df.groupby('user_id', as_index=False, group_keys=False).apply(rolling_count, '7D')"
      ],
      "metadata": {
        "id": "_zW0A5-DKgYM"
      },
      "execution_count": null,
      "outputs": []
    },
    {
      "cell_type": "code",
      "source": [
        "df.describe().T"
      ],
      "metadata": {
        "colab": {
          "base_uri": "https://localhost:8080/",
          "height": 142
        },
        "id": "BfGvuKxSKgUq",
        "outputId": "e58a6629-3d55-4706-9b22-fe18314f4d66"
      },
      "execution_count": null,
      "outputs": [
        {
          "output_type": "execute_result",
          "data": {
            "text/plain": [
              "                  count         mean          std  min     25%     50%  \\\n",
              "user_id        207917.0  5913.314197  3394.941674  1.0  3087.0  5682.0   \n",
              "visited        207917.0     1.000000     0.000000  1.0     1.0     1.0   \n",
              "visits_7_days  207917.0     4.381393     2.042666  1.0     3.0     4.0   \n",
              "\n",
              "                  75%      max  \n",
              "user_id        8944.0  12000.0  \n",
              "visited           1.0      1.0  \n",
              "visits_7_days     6.0      7.0  "
            ],
            "text/html": [
              "\n",
              "  <div id=\"df-a4c0faed-26df-415d-8187-93a6333a7fd1\">\n",
              "    <div class=\"colab-df-container\">\n",
              "      <div>\n",
              "<style scoped>\n",
              "    .dataframe tbody tr th:only-of-type {\n",
              "        vertical-align: middle;\n",
              "    }\n",
              "\n",
              "    .dataframe tbody tr th {\n",
              "        vertical-align: top;\n",
              "    }\n",
              "\n",
              "    .dataframe thead th {\n",
              "        text-align: right;\n",
              "    }\n",
              "</style>\n",
              "<table border=\"1\" class=\"dataframe\">\n",
              "  <thead>\n",
              "    <tr style=\"text-align: right;\">\n",
              "      <th></th>\n",
              "      <th>count</th>\n",
              "      <th>mean</th>\n",
              "      <th>std</th>\n",
              "      <th>min</th>\n",
              "      <th>25%</th>\n",
              "      <th>50%</th>\n",
              "      <th>75%</th>\n",
              "      <th>max</th>\n",
              "    </tr>\n",
              "  </thead>\n",
              "  <tbody>\n",
              "    <tr>\n",
              "      <th>user_id</th>\n",
              "      <td>207917.0</td>\n",
              "      <td>5913.314197</td>\n",
              "      <td>3394.941674</td>\n",
              "      <td>1.0</td>\n",
              "      <td>3087.0</td>\n",
              "      <td>5682.0</td>\n",
              "      <td>8944.0</td>\n",
              "      <td>12000.0</td>\n",
              "    </tr>\n",
              "    <tr>\n",
              "      <th>visited</th>\n",
              "      <td>207917.0</td>\n",
              "      <td>1.000000</td>\n",
              "      <td>0.000000</td>\n",
              "      <td>1.0</td>\n",
              "      <td>1.0</td>\n",
              "      <td>1.0</td>\n",
              "      <td>1.0</td>\n",
              "      <td>1.0</td>\n",
              "    </tr>\n",
              "    <tr>\n",
              "      <th>visits_7_days</th>\n",
              "      <td>207917.0</td>\n",
              "      <td>4.381393</td>\n",
              "      <td>2.042666</td>\n",
              "      <td>1.0</td>\n",
              "      <td>3.0</td>\n",
              "      <td>4.0</td>\n",
              "      <td>6.0</td>\n",
              "      <td>7.0</td>\n",
              "    </tr>\n",
              "  </tbody>\n",
              "</table>\n",
              "</div>\n",
              "      <button class=\"colab-df-convert\" onclick=\"convertToInteractive('df-a4c0faed-26df-415d-8187-93a6333a7fd1')\"\n",
              "              title=\"Convert this dataframe to an interactive table.\"\n",
              "              style=\"display:none;\">\n",
              "        \n",
              "  <svg xmlns=\"http://www.w3.org/2000/svg\" height=\"24px\"viewBox=\"0 0 24 24\"\n",
              "       width=\"24px\">\n",
              "    <path d=\"M0 0h24v24H0V0z\" fill=\"none\"/>\n",
              "    <path d=\"M18.56 5.44l.94 2.06.94-2.06 2.06-.94-2.06-.94-.94-2.06-.94 2.06-2.06.94zm-11 1L8.5 8.5l.94-2.06 2.06-.94-2.06-.94L8.5 2.5l-.94 2.06-2.06.94zm10 10l.94 2.06.94-2.06 2.06-.94-2.06-.94-.94-2.06-.94 2.06-2.06.94z\"/><path d=\"M17.41 7.96l-1.37-1.37c-.4-.4-.92-.59-1.43-.59-.52 0-1.04.2-1.43.59L10.3 9.45l-7.72 7.72c-.78.78-.78 2.05 0 2.83L4 21.41c.39.39.9.59 1.41.59.51 0 1.02-.2 1.41-.59l7.78-7.78 2.81-2.81c.8-.78.8-2.07 0-2.86zM5.41 20L4 18.59l7.72-7.72 1.47 1.35L5.41 20z\"/>\n",
              "  </svg>\n",
              "      </button>\n",
              "      \n",
              "  <style>\n",
              "    .colab-df-container {\n",
              "      display:flex;\n",
              "      flex-wrap:wrap;\n",
              "      gap: 12px;\n",
              "    }\n",
              "\n",
              "    .colab-df-convert {\n",
              "      background-color: #E8F0FE;\n",
              "      border: none;\n",
              "      border-radius: 50%;\n",
              "      cursor: pointer;\n",
              "      display: none;\n",
              "      fill: #1967D2;\n",
              "      height: 32px;\n",
              "      padding: 0 0 0 0;\n",
              "      width: 32px;\n",
              "    }\n",
              "\n",
              "    .colab-df-convert:hover {\n",
              "      background-color: #E2EBFA;\n",
              "      box-shadow: 0px 1px 2px rgba(60, 64, 67, 0.3), 0px 1px 3px 1px rgba(60, 64, 67, 0.15);\n",
              "      fill: #174EA6;\n",
              "    }\n",
              "\n",
              "    [theme=dark] .colab-df-convert {\n",
              "      background-color: #3B4455;\n",
              "      fill: #D2E3FC;\n",
              "    }\n",
              "\n",
              "    [theme=dark] .colab-df-convert:hover {\n",
              "      background-color: #434B5C;\n",
              "      box-shadow: 0px 1px 3px 1px rgba(0, 0, 0, 0.15);\n",
              "      filter: drop-shadow(0px 1px 2px rgba(0, 0, 0, 0.3));\n",
              "      fill: #FFFFFF;\n",
              "    }\n",
              "  </style>\n",
              "\n",
              "      <script>\n",
              "        const buttonEl =\n",
              "          document.querySelector('#df-a4c0faed-26df-415d-8187-93a6333a7fd1 button.colab-df-convert');\n",
              "        buttonEl.style.display =\n",
              "          google.colab.kernel.accessAllowed ? 'block' : 'none';\n",
              "\n",
              "        async function convertToInteractive(key) {\n",
              "          const element = document.querySelector('#df-a4c0faed-26df-415d-8187-93a6333a7fd1');\n",
              "          const dataTable =\n",
              "            await google.colab.kernel.invokeFunction('convertToInteractive',\n",
              "                                                     [key], {});\n",
              "          if (!dataTable) return;\n",
              "\n",
              "          const docLinkHtml = 'Like what you see? Visit the ' +\n",
              "            '<a target=\"_blank\" href=https://colab.research.google.com/notebooks/data_table.ipynb>data table notebook</a>'\n",
              "            + ' to learn more about interactive tables.';\n",
              "          element.innerHTML = '';\n",
              "          dataTable['output_type'] = 'display_data';\n",
              "          await google.colab.output.renderOutput(dataTable, element);\n",
              "          const docLink = document.createElement('div');\n",
              "          docLink.innerHTML = docLinkHtml;\n",
              "          element.appendChild(docLink);\n",
              "        }\n",
              "      </script>\n",
              "    </div>\n",
              "  </div>\n",
              "  "
            ]
          },
          "metadata": {},
          "execution_count": 129
        }
      ]
    },
    {
      "cell_type": "code",
      "source": [
        "df[df.visits_7_days >= 3.0]"
      ],
      "metadata": {
        "colab": {
          "base_uri": "https://localhost:8080/",
          "height": 417
        },
        "id": "nmt1xXxRKgSb",
        "outputId": "b0b18f4d-b298-4884-c7fa-e1ab694e96a5"
      },
      "execution_count": null,
      "outputs": [
        {
          "output_type": "execute_result",
          "data": {
            "text/plain": [
              "                 time_stamp  user_id  visited                date  \\\n",
              "9       2014-02-09 03:45:04        2        1 2014-02-09 03:45:04   \n",
              "10      2014-02-13 03:45:04        2        1 2014-02-13 03:45:04   \n",
              "27      2013-02-19 22:08:03       10        1 2013-02-19 22:08:03   \n",
              "30      2013-03-02 22:08:03       10        1 2013-03-02 22:08:03   \n",
              "31      2013-03-05 22:08:03       10        1 2013-03-05 22:08:03   \n",
              "...                     ...      ...      ...                 ...   \n",
              "207898  2014-05-23 11:04:47    11988        1 2014-05-23 11:04:47   \n",
              "207899  2014-05-24 11:04:47    11988        1 2014-05-24 11:04:47   \n",
              "207900  2014-05-26 11:04:47    11988        1 2014-05-26 11:04:47   \n",
              "207901  2014-05-27 11:04:47    11988        1 2014-05-27 11:04:47   \n",
              "207902  2014-06-01 11:04:47    11988        1 2014-06-01 11:04:47   \n",
              "\n",
              "        visits_7_days  \n",
              "9                 3.0  \n",
              "10                3.0  \n",
              "27                3.0  \n",
              "30                3.0  \n",
              "31                3.0  \n",
              "...               ...  \n",
              "207898            6.0  \n",
              "207899            6.0  \n",
              "207900            5.0  \n",
              "207901            5.0  \n",
              "207902            3.0  \n",
              "\n",
              "[160522 rows x 5 columns]"
            ],
            "text/html": [
              "\n",
              "  <div id=\"df-0fb0c3d9-1fe2-41a2-8ad7-bd8971dfa33e\">\n",
              "    <div class=\"colab-df-container\">\n",
              "      <div>\n",
              "<style scoped>\n",
              "    .dataframe tbody tr th:only-of-type {\n",
              "        vertical-align: middle;\n",
              "    }\n",
              "\n",
              "    .dataframe tbody tr th {\n",
              "        vertical-align: top;\n",
              "    }\n",
              "\n",
              "    .dataframe thead th {\n",
              "        text-align: right;\n",
              "    }\n",
              "</style>\n",
              "<table border=\"1\" class=\"dataframe\">\n",
              "  <thead>\n",
              "    <tr style=\"text-align: right;\">\n",
              "      <th></th>\n",
              "      <th>time_stamp</th>\n",
              "      <th>user_id</th>\n",
              "      <th>visited</th>\n",
              "      <th>date</th>\n",
              "      <th>visits_7_days</th>\n",
              "    </tr>\n",
              "  </thead>\n",
              "  <tbody>\n",
              "    <tr>\n",
              "      <th>9</th>\n",
              "      <td>2014-02-09 03:45:04</td>\n",
              "      <td>2</td>\n",
              "      <td>1</td>\n",
              "      <td>2014-02-09 03:45:04</td>\n",
              "      <td>3.0</td>\n",
              "    </tr>\n",
              "    <tr>\n",
              "      <th>10</th>\n",
              "      <td>2014-02-13 03:45:04</td>\n",
              "      <td>2</td>\n",
              "      <td>1</td>\n",
              "      <td>2014-02-13 03:45:04</td>\n",
              "      <td>3.0</td>\n",
              "    </tr>\n",
              "    <tr>\n",
              "      <th>27</th>\n",
              "      <td>2013-02-19 22:08:03</td>\n",
              "      <td>10</td>\n",
              "      <td>1</td>\n",
              "      <td>2013-02-19 22:08:03</td>\n",
              "      <td>3.0</td>\n",
              "    </tr>\n",
              "    <tr>\n",
              "      <th>30</th>\n",
              "      <td>2013-03-02 22:08:03</td>\n",
              "      <td>10</td>\n",
              "      <td>1</td>\n",
              "      <td>2013-03-02 22:08:03</td>\n",
              "      <td>3.0</td>\n",
              "    </tr>\n",
              "    <tr>\n",
              "      <th>31</th>\n",
              "      <td>2013-03-05 22:08:03</td>\n",
              "      <td>10</td>\n",
              "      <td>1</td>\n",
              "      <td>2013-03-05 22:08:03</td>\n",
              "      <td>3.0</td>\n",
              "    </tr>\n",
              "    <tr>\n",
              "      <th>...</th>\n",
              "      <td>...</td>\n",
              "      <td>...</td>\n",
              "      <td>...</td>\n",
              "      <td>...</td>\n",
              "      <td>...</td>\n",
              "    </tr>\n",
              "    <tr>\n",
              "      <th>207898</th>\n",
              "      <td>2014-05-23 11:04:47</td>\n",
              "      <td>11988</td>\n",
              "      <td>1</td>\n",
              "      <td>2014-05-23 11:04:47</td>\n",
              "      <td>6.0</td>\n",
              "    </tr>\n",
              "    <tr>\n",
              "      <th>207899</th>\n",
              "      <td>2014-05-24 11:04:47</td>\n",
              "      <td>11988</td>\n",
              "      <td>1</td>\n",
              "      <td>2014-05-24 11:04:47</td>\n",
              "      <td>6.0</td>\n",
              "    </tr>\n",
              "    <tr>\n",
              "      <th>207900</th>\n",
              "      <td>2014-05-26 11:04:47</td>\n",
              "      <td>11988</td>\n",
              "      <td>1</td>\n",
              "      <td>2014-05-26 11:04:47</td>\n",
              "      <td>5.0</td>\n",
              "    </tr>\n",
              "    <tr>\n",
              "      <th>207901</th>\n",
              "      <td>2014-05-27 11:04:47</td>\n",
              "      <td>11988</td>\n",
              "      <td>1</td>\n",
              "      <td>2014-05-27 11:04:47</td>\n",
              "      <td>5.0</td>\n",
              "    </tr>\n",
              "    <tr>\n",
              "      <th>207902</th>\n",
              "      <td>2014-06-01 11:04:47</td>\n",
              "      <td>11988</td>\n",
              "      <td>1</td>\n",
              "      <td>2014-06-01 11:04:47</td>\n",
              "      <td>3.0</td>\n",
              "    </tr>\n",
              "  </tbody>\n",
              "</table>\n",
              "<p>160522 rows × 5 columns</p>\n",
              "</div>\n",
              "      <button class=\"colab-df-convert\" onclick=\"convertToInteractive('df-0fb0c3d9-1fe2-41a2-8ad7-bd8971dfa33e')\"\n",
              "              title=\"Convert this dataframe to an interactive table.\"\n",
              "              style=\"display:none;\">\n",
              "        \n",
              "  <svg xmlns=\"http://www.w3.org/2000/svg\" height=\"24px\"viewBox=\"0 0 24 24\"\n",
              "       width=\"24px\">\n",
              "    <path d=\"M0 0h24v24H0V0z\" fill=\"none\"/>\n",
              "    <path d=\"M18.56 5.44l.94 2.06.94-2.06 2.06-.94-2.06-.94-.94-2.06-.94 2.06-2.06.94zm-11 1L8.5 8.5l.94-2.06 2.06-.94-2.06-.94L8.5 2.5l-.94 2.06-2.06.94zm10 10l.94 2.06.94-2.06 2.06-.94-2.06-.94-.94-2.06-.94 2.06-2.06.94z\"/><path d=\"M17.41 7.96l-1.37-1.37c-.4-.4-.92-.59-1.43-.59-.52 0-1.04.2-1.43.59L10.3 9.45l-7.72 7.72c-.78.78-.78 2.05 0 2.83L4 21.41c.39.39.9.59 1.41.59.51 0 1.02-.2 1.41-.59l7.78-7.78 2.81-2.81c.8-.78.8-2.07 0-2.86zM5.41 20L4 18.59l7.72-7.72 1.47 1.35L5.41 20z\"/>\n",
              "  </svg>\n",
              "      </button>\n",
              "      \n",
              "  <style>\n",
              "    .colab-df-container {\n",
              "      display:flex;\n",
              "      flex-wrap:wrap;\n",
              "      gap: 12px;\n",
              "    }\n",
              "\n",
              "    .colab-df-convert {\n",
              "      background-color: #E8F0FE;\n",
              "      border: none;\n",
              "      border-radius: 50%;\n",
              "      cursor: pointer;\n",
              "      display: none;\n",
              "      fill: #1967D2;\n",
              "      height: 32px;\n",
              "      padding: 0 0 0 0;\n",
              "      width: 32px;\n",
              "    }\n",
              "\n",
              "    .colab-df-convert:hover {\n",
              "      background-color: #E2EBFA;\n",
              "      box-shadow: 0px 1px 2px rgba(60, 64, 67, 0.3), 0px 1px 3px 1px rgba(60, 64, 67, 0.15);\n",
              "      fill: #174EA6;\n",
              "    }\n",
              "\n",
              "    [theme=dark] .colab-df-convert {\n",
              "      background-color: #3B4455;\n",
              "      fill: #D2E3FC;\n",
              "    }\n",
              "\n",
              "    [theme=dark] .colab-df-convert:hover {\n",
              "      background-color: #434B5C;\n",
              "      box-shadow: 0px 1px 3px 1px rgba(0, 0, 0, 0.15);\n",
              "      filter: drop-shadow(0px 1px 2px rgba(0, 0, 0, 0.3));\n",
              "      fill: #FFFFFF;\n",
              "    }\n",
              "  </style>\n",
              "\n",
              "      <script>\n",
              "        const buttonEl =\n",
              "          document.querySelector('#df-0fb0c3d9-1fe2-41a2-8ad7-bd8971dfa33e button.colab-df-convert');\n",
              "        buttonEl.style.display =\n",
              "          google.colab.kernel.accessAllowed ? 'block' : 'none';\n",
              "\n",
              "        async function convertToInteractive(key) {\n",
              "          const element = document.querySelector('#df-0fb0c3d9-1fe2-41a2-8ad7-bd8971dfa33e');\n",
              "          const dataTable =\n",
              "            await google.colab.kernel.invokeFunction('convertToInteractive',\n",
              "                                                     [key], {});\n",
              "          if (!dataTable) return;\n",
              "\n",
              "          const docLinkHtml = 'Like what you see? Visit the ' +\n",
              "            '<a target=\"_blank\" href=https://colab.research.google.com/notebooks/data_table.ipynb>data table notebook</a>'\n",
              "            + ' to learn more about interactive tables.';\n",
              "          element.innerHTML = '';\n",
              "          dataTable['output_type'] = 'display_data';\n",
              "          await google.colab.output.renderOutput(dataTable, element);\n",
              "          const docLink = document.createElement('div');\n",
              "          docLink.innerHTML = docLinkHtml;\n",
              "          element.appendChild(docLink);\n",
              "        }\n",
              "      </script>\n",
              "    </div>\n",
              "  </div>\n",
              "  "
            ]
          },
          "metadata": {},
          "execution_count": 130
        }
      ]
    },
    {
      "cell_type": "markdown",
      "source": [
        "If any of the values in the visits_7_days column is >=3, then we can label that user as adopted."
      ],
      "metadata": {
        "id": "3Kj5fJXFKq9T"
      }
    },
    {
      "cell_type": "code",
      "source": [
        "user_adopted = df.groupby('user_id')['visits_7_days'].max().reset_index()"
      ],
      "metadata": {
        "id": "RBxbVzbZKgP2"
      },
      "execution_count": null,
      "outputs": []
    },
    {
      "cell_type": "code",
      "source": [
        "user_adopted['adopted_user'] = user_adopted['visits_7_days'].apply(lambda x: 1 if x>=3 else 0)"
      ],
      "metadata": {
        "id": "cVWcOxWjKgNH"
      },
      "execution_count": null,
      "outputs": []
    },
    {
      "cell_type": "code",
      "source": [
        "user_adopted.head()"
      ],
      "metadata": {
        "colab": {
          "base_uri": "https://localhost:8080/",
          "height": 203
        },
        "id": "wppG84ktKgKp",
        "outputId": "901c7400-f8ef-458b-c023-959abdb7244a"
      },
      "execution_count": null,
      "outputs": [
        {
          "output_type": "execute_result",
          "data": {
            "text/plain": [
              "   user_id  visits_7_days  adopted_user\n",
              "0        1            1.0             0\n",
              "1        2            3.0             1\n",
              "2        3            1.0             0\n",
              "3        4            1.0             0\n",
              "4        5            1.0             0"
            ],
            "text/html": [
              "\n",
              "  <div id=\"df-06a72856-d0b3-4cdf-a3fe-52168845c7ab\">\n",
              "    <div class=\"colab-df-container\">\n",
              "      <div>\n",
              "<style scoped>\n",
              "    .dataframe tbody tr th:only-of-type {\n",
              "        vertical-align: middle;\n",
              "    }\n",
              "\n",
              "    .dataframe tbody tr th {\n",
              "        vertical-align: top;\n",
              "    }\n",
              "\n",
              "    .dataframe thead th {\n",
              "        text-align: right;\n",
              "    }\n",
              "</style>\n",
              "<table border=\"1\" class=\"dataframe\">\n",
              "  <thead>\n",
              "    <tr style=\"text-align: right;\">\n",
              "      <th></th>\n",
              "      <th>user_id</th>\n",
              "      <th>visits_7_days</th>\n",
              "      <th>adopted_user</th>\n",
              "    </tr>\n",
              "  </thead>\n",
              "  <tbody>\n",
              "    <tr>\n",
              "      <th>0</th>\n",
              "      <td>1</td>\n",
              "      <td>1.0</td>\n",
              "      <td>0</td>\n",
              "    </tr>\n",
              "    <tr>\n",
              "      <th>1</th>\n",
              "      <td>2</td>\n",
              "      <td>3.0</td>\n",
              "      <td>1</td>\n",
              "    </tr>\n",
              "    <tr>\n",
              "      <th>2</th>\n",
              "      <td>3</td>\n",
              "      <td>1.0</td>\n",
              "      <td>0</td>\n",
              "    </tr>\n",
              "    <tr>\n",
              "      <th>3</th>\n",
              "      <td>4</td>\n",
              "      <td>1.0</td>\n",
              "      <td>0</td>\n",
              "    </tr>\n",
              "    <tr>\n",
              "      <th>4</th>\n",
              "      <td>5</td>\n",
              "      <td>1.0</td>\n",
              "      <td>0</td>\n",
              "    </tr>\n",
              "  </tbody>\n",
              "</table>\n",
              "</div>\n",
              "      <button class=\"colab-df-convert\" onclick=\"convertToInteractive('df-06a72856-d0b3-4cdf-a3fe-52168845c7ab')\"\n",
              "              title=\"Convert this dataframe to an interactive table.\"\n",
              "              style=\"display:none;\">\n",
              "        \n",
              "  <svg xmlns=\"http://www.w3.org/2000/svg\" height=\"24px\"viewBox=\"0 0 24 24\"\n",
              "       width=\"24px\">\n",
              "    <path d=\"M0 0h24v24H0V0z\" fill=\"none\"/>\n",
              "    <path d=\"M18.56 5.44l.94 2.06.94-2.06 2.06-.94-2.06-.94-.94-2.06-.94 2.06-2.06.94zm-11 1L8.5 8.5l.94-2.06 2.06-.94-2.06-.94L8.5 2.5l-.94 2.06-2.06.94zm10 10l.94 2.06.94-2.06 2.06-.94-2.06-.94-.94-2.06-.94 2.06-2.06.94z\"/><path d=\"M17.41 7.96l-1.37-1.37c-.4-.4-.92-.59-1.43-.59-.52 0-1.04.2-1.43.59L10.3 9.45l-7.72 7.72c-.78.78-.78 2.05 0 2.83L4 21.41c.39.39.9.59 1.41.59.51 0 1.02-.2 1.41-.59l7.78-7.78 2.81-2.81c.8-.78.8-2.07 0-2.86zM5.41 20L4 18.59l7.72-7.72 1.47 1.35L5.41 20z\"/>\n",
              "  </svg>\n",
              "      </button>\n",
              "      \n",
              "  <style>\n",
              "    .colab-df-container {\n",
              "      display:flex;\n",
              "      flex-wrap:wrap;\n",
              "      gap: 12px;\n",
              "    }\n",
              "\n",
              "    .colab-df-convert {\n",
              "      background-color: #E8F0FE;\n",
              "      border: none;\n",
              "      border-radius: 50%;\n",
              "      cursor: pointer;\n",
              "      display: none;\n",
              "      fill: #1967D2;\n",
              "      height: 32px;\n",
              "      padding: 0 0 0 0;\n",
              "      width: 32px;\n",
              "    }\n",
              "\n",
              "    .colab-df-convert:hover {\n",
              "      background-color: #E2EBFA;\n",
              "      box-shadow: 0px 1px 2px rgba(60, 64, 67, 0.3), 0px 1px 3px 1px rgba(60, 64, 67, 0.15);\n",
              "      fill: #174EA6;\n",
              "    }\n",
              "\n",
              "    [theme=dark] .colab-df-convert {\n",
              "      background-color: #3B4455;\n",
              "      fill: #D2E3FC;\n",
              "    }\n",
              "\n",
              "    [theme=dark] .colab-df-convert:hover {\n",
              "      background-color: #434B5C;\n",
              "      box-shadow: 0px 1px 3px 1px rgba(0, 0, 0, 0.15);\n",
              "      filter: drop-shadow(0px 1px 2px rgba(0, 0, 0, 0.3));\n",
              "      fill: #FFFFFF;\n",
              "    }\n",
              "  </style>\n",
              "\n",
              "      <script>\n",
              "        const buttonEl =\n",
              "          document.querySelector('#df-06a72856-d0b3-4cdf-a3fe-52168845c7ab button.colab-df-convert');\n",
              "        buttonEl.style.display =\n",
              "          google.colab.kernel.accessAllowed ? 'block' : 'none';\n",
              "\n",
              "        async function convertToInteractive(key) {\n",
              "          const element = document.querySelector('#df-06a72856-d0b3-4cdf-a3fe-52168845c7ab');\n",
              "          const dataTable =\n",
              "            await google.colab.kernel.invokeFunction('convertToInteractive',\n",
              "                                                     [key], {});\n",
              "          if (!dataTable) return;\n",
              "\n",
              "          const docLinkHtml = 'Like what you see? Visit the ' +\n",
              "            '<a target=\"_blank\" href=https://colab.research.google.com/notebooks/data_table.ipynb>data table notebook</a>'\n",
              "            + ' to learn more about interactive tables.';\n",
              "          element.innerHTML = '';\n",
              "          dataTable['output_type'] = 'display_data';\n",
              "          await google.colab.output.renderOutput(dataTable, element);\n",
              "          const docLink = document.createElement('div');\n",
              "          docLink.innerHTML = docLinkHtml;\n",
              "          element.appendChild(docLink);\n",
              "        }\n",
              "      </script>\n",
              "    </div>\n",
              "  </div>\n",
              "  "
            ]
          },
          "metadata": {},
          "execution_count": 133
        }
      ]
    },
    {
      "cell_type": "code",
      "source": [
        "user_adopted.adopted_user.value_counts()"
      ],
      "metadata": {
        "colab": {
          "base_uri": "https://localhost:8080/"
        },
        "id": "HtdDvglpKgIc",
        "outputId": "ec8f8e43-567e-4f91-d0ea-ad35a37dd2a9"
      },
      "execution_count": null,
      "outputs": [
        {
          "output_type": "execute_result",
          "data": {
            "text/plain": [
              "0    7221\n",
              "1    1602\n",
              "Name: adopted_user, dtype: int64"
            ]
          },
          "metadata": {},
          "execution_count": 134
        }
      ]
    },
    {
      "cell_type": "code",
      "source": [
        "user_adopted.drop('visits_7_days', axis = 1, inplace = True)\n",
        "user_adopted.rename(columns={\"user_id\": \"object_id\"}, inplace=True)\n",
        "user_adopted.set_index(\"object_id\", inplace = True)"
      ],
      "metadata": {
        "id": "bT4KrtrZKgFZ"
      },
      "execution_count": null,
      "outputs": []
    },
    {
      "cell_type": "markdown",
      "source": [
        "Joining the above user_adopted dataframe with the original users dataframe."
      ],
      "metadata": {
        "id": "E1BBUK3pK_AT"
      }
    },
    {
      "cell_type": "code",
      "source": [
        "df_users = users.join(user_adopted, on = 'object_id', how='left')\n",
        "df_users.head()"
      ],
      "metadata": {
        "colab": {
          "base_uri": "https://localhost:8080/",
          "height": 351
        },
        "id": "KWLElZ-4KgCn",
        "outputId": "abe28650-331e-477d-d6f8-072bdc0fa60b"
      },
      "execution_count": null,
      "outputs": [
        {
          "output_type": "execute_result",
          "data": {
            "text/plain": [
              "   object_id        creation_time               name  \\\n",
              "0          1  2014-04-22 03:53:30     Clausen August   \n",
              "1          2  2013-11-15 03:45:04      Poole Matthew   \n",
              "2          3  2013-03-19 23:14:52  Bottrill Mitchell   \n",
              "3          4  2013-05-21 08:09:28    Clausen Nicklas   \n",
              "4          5  2013-01-17 10:14:20          Raw Grace   \n",
              "\n",
              "                        email creation_source last_session_creation_time  \\\n",
              "0    AugustCClausen@yahoo.com    GUEST_INVITE        2014-04-22 03:53:30   \n",
              "1      MatthewPoole@gustr.com      ORG_INVITE        2014-03-31 03:45:04   \n",
              "2  MitchellBottrill@gustr.com      ORG_INVITE        2013-03-19 23:14:52   \n",
              "3   NicklasSClausen@yahoo.com    GUEST_INVITE        2013-05-22 08:09:28   \n",
              "4          GraceRaw@yahoo.com    GUEST_INVITE        2013-01-22 10:14:20   \n",
              "\n",
              "   opted_in_to_mailing_list  enabled_for_marketing_drip  org_id  \\\n",
              "0                         1                           0      11   \n",
              "1                         0                           0       1   \n",
              "2                         0                           0      94   \n",
              "3                         0                           0       1   \n",
              "4                         0                           0     193   \n",
              "\n",
              "   invited_by_user_id  adopted_user  \n",
              "0             10803.0           0.0  \n",
              "1               316.0           1.0  \n",
              "2              1525.0           0.0  \n",
              "3              5151.0           0.0  \n",
              "4              5240.0           0.0  "
            ],
            "text/html": [
              "\n",
              "  <div id=\"df-f51af43b-d64b-4713-ba3d-cc0b99e24d65\">\n",
              "    <div class=\"colab-df-container\">\n",
              "      <div>\n",
              "<style scoped>\n",
              "    .dataframe tbody tr th:only-of-type {\n",
              "        vertical-align: middle;\n",
              "    }\n",
              "\n",
              "    .dataframe tbody tr th {\n",
              "        vertical-align: top;\n",
              "    }\n",
              "\n",
              "    .dataframe thead th {\n",
              "        text-align: right;\n",
              "    }\n",
              "</style>\n",
              "<table border=\"1\" class=\"dataframe\">\n",
              "  <thead>\n",
              "    <tr style=\"text-align: right;\">\n",
              "      <th></th>\n",
              "      <th>object_id</th>\n",
              "      <th>creation_time</th>\n",
              "      <th>name</th>\n",
              "      <th>email</th>\n",
              "      <th>creation_source</th>\n",
              "      <th>last_session_creation_time</th>\n",
              "      <th>opted_in_to_mailing_list</th>\n",
              "      <th>enabled_for_marketing_drip</th>\n",
              "      <th>org_id</th>\n",
              "      <th>invited_by_user_id</th>\n",
              "      <th>adopted_user</th>\n",
              "    </tr>\n",
              "  </thead>\n",
              "  <tbody>\n",
              "    <tr>\n",
              "      <th>0</th>\n",
              "      <td>1</td>\n",
              "      <td>2014-04-22 03:53:30</td>\n",
              "      <td>Clausen August</td>\n",
              "      <td>AugustCClausen@yahoo.com</td>\n",
              "      <td>GUEST_INVITE</td>\n",
              "      <td>2014-04-22 03:53:30</td>\n",
              "      <td>1</td>\n",
              "      <td>0</td>\n",
              "      <td>11</td>\n",
              "      <td>10803.0</td>\n",
              "      <td>0.0</td>\n",
              "    </tr>\n",
              "    <tr>\n",
              "      <th>1</th>\n",
              "      <td>2</td>\n",
              "      <td>2013-11-15 03:45:04</td>\n",
              "      <td>Poole Matthew</td>\n",
              "      <td>MatthewPoole@gustr.com</td>\n",
              "      <td>ORG_INVITE</td>\n",
              "      <td>2014-03-31 03:45:04</td>\n",
              "      <td>0</td>\n",
              "      <td>0</td>\n",
              "      <td>1</td>\n",
              "      <td>316.0</td>\n",
              "      <td>1.0</td>\n",
              "    </tr>\n",
              "    <tr>\n",
              "      <th>2</th>\n",
              "      <td>3</td>\n",
              "      <td>2013-03-19 23:14:52</td>\n",
              "      <td>Bottrill Mitchell</td>\n",
              "      <td>MitchellBottrill@gustr.com</td>\n",
              "      <td>ORG_INVITE</td>\n",
              "      <td>2013-03-19 23:14:52</td>\n",
              "      <td>0</td>\n",
              "      <td>0</td>\n",
              "      <td>94</td>\n",
              "      <td>1525.0</td>\n",
              "      <td>0.0</td>\n",
              "    </tr>\n",
              "    <tr>\n",
              "      <th>3</th>\n",
              "      <td>4</td>\n",
              "      <td>2013-05-21 08:09:28</td>\n",
              "      <td>Clausen Nicklas</td>\n",
              "      <td>NicklasSClausen@yahoo.com</td>\n",
              "      <td>GUEST_INVITE</td>\n",
              "      <td>2013-05-22 08:09:28</td>\n",
              "      <td>0</td>\n",
              "      <td>0</td>\n",
              "      <td>1</td>\n",
              "      <td>5151.0</td>\n",
              "      <td>0.0</td>\n",
              "    </tr>\n",
              "    <tr>\n",
              "      <th>4</th>\n",
              "      <td>5</td>\n",
              "      <td>2013-01-17 10:14:20</td>\n",
              "      <td>Raw Grace</td>\n",
              "      <td>GraceRaw@yahoo.com</td>\n",
              "      <td>GUEST_INVITE</td>\n",
              "      <td>2013-01-22 10:14:20</td>\n",
              "      <td>0</td>\n",
              "      <td>0</td>\n",
              "      <td>193</td>\n",
              "      <td>5240.0</td>\n",
              "      <td>0.0</td>\n",
              "    </tr>\n",
              "  </tbody>\n",
              "</table>\n",
              "</div>\n",
              "      <button class=\"colab-df-convert\" onclick=\"convertToInteractive('df-f51af43b-d64b-4713-ba3d-cc0b99e24d65')\"\n",
              "              title=\"Convert this dataframe to an interactive table.\"\n",
              "              style=\"display:none;\">\n",
              "        \n",
              "  <svg xmlns=\"http://www.w3.org/2000/svg\" height=\"24px\"viewBox=\"0 0 24 24\"\n",
              "       width=\"24px\">\n",
              "    <path d=\"M0 0h24v24H0V0z\" fill=\"none\"/>\n",
              "    <path d=\"M18.56 5.44l.94 2.06.94-2.06 2.06-.94-2.06-.94-.94-2.06-.94 2.06-2.06.94zm-11 1L8.5 8.5l.94-2.06 2.06-.94-2.06-.94L8.5 2.5l-.94 2.06-2.06.94zm10 10l.94 2.06.94-2.06 2.06-.94-2.06-.94-.94-2.06-.94 2.06-2.06.94z\"/><path d=\"M17.41 7.96l-1.37-1.37c-.4-.4-.92-.59-1.43-.59-.52 0-1.04.2-1.43.59L10.3 9.45l-7.72 7.72c-.78.78-.78 2.05 0 2.83L4 21.41c.39.39.9.59 1.41.59.51 0 1.02-.2 1.41-.59l7.78-7.78 2.81-2.81c.8-.78.8-2.07 0-2.86zM5.41 20L4 18.59l7.72-7.72 1.47 1.35L5.41 20z\"/>\n",
              "  </svg>\n",
              "      </button>\n",
              "      \n",
              "  <style>\n",
              "    .colab-df-container {\n",
              "      display:flex;\n",
              "      flex-wrap:wrap;\n",
              "      gap: 12px;\n",
              "    }\n",
              "\n",
              "    .colab-df-convert {\n",
              "      background-color: #E8F0FE;\n",
              "      border: none;\n",
              "      border-radius: 50%;\n",
              "      cursor: pointer;\n",
              "      display: none;\n",
              "      fill: #1967D2;\n",
              "      height: 32px;\n",
              "      padding: 0 0 0 0;\n",
              "      width: 32px;\n",
              "    }\n",
              "\n",
              "    .colab-df-convert:hover {\n",
              "      background-color: #E2EBFA;\n",
              "      box-shadow: 0px 1px 2px rgba(60, 64, 67, 0.3), 0px 1px 3px 1px rgba(60, 64, 67, 0.15);\n",
              "      fill: #174EA6;\n",
              "    }\n",
              "\n",
              "    [theme=dark] .colab-df-convert {\n",
              "      background-color: #3B4455;\n",
              "      fill: #D2E3FC;\n",
              "    }\n",
              "\n",
              "    [theme=dark] .colab-df-convert:hover {\n",
              "      background-color: #434B5C;\n",
              "      box-shadow: 0px 1px 3px 1px rgba(0, 0, 0, 0.15);\n",
              "      filter: drop-shadow(0px 1px 2px rgba(0, 0, 0, 0.3));\n",
              "      fill: #FFFFFF;\n",
              "    }\n",
              "  </style>\n",
              "\n",
              "      <script>\n",
              "        const buttonEl =\n",
              "          document.querySelector('#df-f51af43b-d64b-4713-ba3d-cc0b99e24d65 button.colab-df-convert');\n",
              "        buttonEl.style.display =\n",
              "          google.colab.kernel.accessAllowed ? 'block' : 'none';\n",
              "\n",
              "        async function convertToInteractive(key) {\n",
              "          const element = document.querySelector('#df-f51af43b-d64b-4713-ba3d-cc0b99e24d65');\n",
              "          const dataTable =\n",
              "            await google.colab.kernel.invokeFunction('convertToInteractive',\n",
              "                                                     [key], {});\n",
              "          if (!dataTable) return;\n",
              "\n",
              "          const docLinkHtml = 'Like what you see? Visit the ' +\n",
              "            '<a target=\"_blank\" href=https://colab.research.google.com/notebooks/data_table.ipynb>data table notebook</a>'\n",
              "            + ' to learn more about interactive tables.';\n",
              "          element.innerHTML = '';\n",
              "          dataTable['output_type'] = 'display_data';\n",
              "          await google.colab.output.renderOutput(dataTable, element);\n",
              "          const docLink = document.createElement('div');\n",
              "          docLink.innerHTML = docLinkHtml;\n",
              "          element.appendChild(docLink);\n",
              "        }\n",
              "      </script>\n",
              "    </div>\n",
              "  </div>\n",
              "  "
            ]
          },
          "metadata": {},
          "execution_count": 136
        }
      ]
    },
    {
      "cell_type": "code",
      "source": [
        "df_users.info()"
      ],
      "metadata": {
        "colab": {
          "base_uri": "https://localhost:8080/"
        },
        "id": "VUmP6B9nKgAM",
        "outputId": "28e749e2-f78b-479f-d78d-3bd3d6b11724"
      },
      "execution_count": null,
      "outputs": [
        {
          "output_type": "stream",
          "name": "stdout",
          "text": [
            "<class 'pandas.core.frame.DataFrame'>\n",
            "RangeIndex: 12000 entries, 0 to 11999\n",
            "Data columns (total 11 columns):\n",
            " #   Column                      Non-Null Count  Dtype         \n",
            "---  ------                      --------------  -----         \n",
            " 0   object_id                   12000 non-null  int64         \n",
            " 1   creation_time               12000 non-null  object        \n",
            " 2   name                        12000 non-null  object        \n",
            " 3   email                       12000 non-null  object        \n",
            " 4   creation_source             12000 non-null  object        \n",
            " 5   last_session_creation_time  8823 non-null   datetime64[ns]\n",
            " 6   opted_in_to_mailing_list    12000 non-null  int64         \n",
            " 7   enabled_for_marketing_drip  12000 non-null  int64         \n",
            " 8   org_id                      12000 non-null  int64         \n",
            " 9   invited_by_user_id          6417 non-null   float64       \n",
            " 10  adopted_user                8823 non-null   float64       \n",
            "dtypes: datetime64[ns](1), float64(2), int64(4), object(4)\n",
            "memory usage: 1.0+ MB\n"
          ]
        }
      ]
    },
    {
      "cell_type": "markdown",
      "source": [
        "The null values in the adopted_user and last_session_creation_time can be filled in with 0 because we can assume that those users aren't adopted users."
      ],
      "metadata": {
        "id": "38TTo6o7LG5i"
      }
    },
    {
      "cell_type": "code",
      "source": [
        "df_users['last_session_creation_time'].fillna(0, inplace = True)\n",
        "df_users['adopted_user'].fillna(0, inplace = True)\n",
        "df_users.describe().T"
      ],
      "metadata": {
        "colab": {
          "base_uri": "https://localhost:8080/",
          "height": 234
        },
        "id": "D6hCWlzVLHVt",
        "outputId": "f131020f-e3d6-4b67-f58a-9c79c51a2313"
      },
      "execution_count": null,
      "outputs": [
        {
          "output_type": "execute_result",
          "data": {
            "text/plain": [
              "                              count         mean          std  min      25%  \\\n",
              "object_id                   12000.0  6000.500000  3464.245950  1.0  3000.75   \n",
              "opted_in_to_mailing_list    12000.0     0.249500     0.432742  0.0     0.00   \n",
              "enabled_for_marketing_drip  12000.0     0.149333     0.356432  0.0     0.00   \n",
              "org_id                      12000.0   141.884583   124.056723  0.0    29.00   \n",
              "invited_by_user_id           6417.0  5962.957145  3383.761968  3.0  3058.00   \n",
              "adopted_user                12000.0     0.133500     0.340128  0.0     0.00   \n",
              "\n",
              "                               50%      75%      max  \n",
              "object_id                   6000.5  9000.25  12000.0  \n",
              "opted_in_to_mailing_list       0.0     0.00      1.0  \n",
              "enabled_for_marketing_drip     0.0     0.00      1.0  \n",
              "org_id                       108.0   238.25    416.0  \n",
              "invited_by_user_id          5954.0  8817.00  11999.0  \n",
              "adopted_user                   0.0     0.00      1.0  "
            ],
            "text/html": [
              "\n",
              "  <div id=\"df-6147b018-db45-48b8-8626-474d8c8433e4\">\n",
              "    <div class=\"colab-df-container\">\n",
              "      <div>\n",
              "<style scoped>\n",
              "    .dataframe tbody tr th:only-of-type {\n",
              "        vertical-align: middle;\n",
              "    }\n",
              "\n",
              "    .dataframe tbody tr th {\n",
              "        vertical-align: top;\n",
              "    }\n",
              "\n",
              "    .dataframe thead th {\n",
              "        text-align: right;\n",
              "    }\n",
              "</style>\n",
              "<table border=\"1\" class=\"dataframe\">\n",
              "  <thead>\n",
              "    <tr style=\"text-align: right;\">\n",
              "      <th></th>\n",
              "      <th>count</th>\n",
              "      <th>mean</th>\n",
              "      <th>std</th>\n",
              "      <th>min</th>\n",
              "      <th>25%</th>\n",
              "      <th>50%</th>\n",
              "      <th>75%</th>\n",
              "      <th>max</th>\n",
              "    </tr>\n",
              "  </thead>\n",
              "  <tbody>\n",
              "    <tr>\n",
              "      <th>object_id</th>\n",
              "      <td>12000.0</td>\n",
              "      <td>6000.500000</td>\n",
              "      <td>3464.245950</td>\n",
              "      <td>1.0</td>\n",
              "      <td>3000.75</td>\n",
              "      <td>6000.5</td>\n",
              "      <td>9000.25</td>\n",
              "      <td>12000.0</td>\n",
              "    </tr>\n",
              "    <tr>\n",
              "      <th>opted_in_to_mailing_list</th>\n",
              "      <td>12000.0</td>\n",
              "      <td>0.249500</td>\n",
              "      <td>0.432742</td>\n",
              "      <td>0.0</td>\n",
              "      <td>0.00</td>\n",
              "      <td>0.0</td>\n",
              "      <td>0.00</td>\n",
              "      <td>1.0</td>\n",
              "    </tr>\n",
              "    <tr>\n",
              "      <th>enabled_for_marketing_drip</th>\n",
              "      <td>12000.0</td>\n",
              "      <td>0.149333</td>\n",
              "      <td>0.356432</td>\n",
              "      <td>0.0</td>\n",
              "      <td>0.00</td>\n",
              "      <td>0.0</td>\n",
              "      <td>0.00</td>\n",
              "      <td>1.0</td>\n",
              "    </tr>\n",
              "    <tr>\n",
              "      <th>org_id</th>\n",
              "      <td>12000.0</td>\n",
              "      <td>141.884583</td>\n",
              "      <td>124.056723</td>\n",
              "      <td>0.0</td>\n",
              "      <td>29.00</td>\n",
              "      <td>108.0</td>\n",
              "      <td>238.25</td>\n",
              "      <td>416.0</td>\n",
              "    </tr>\n",
              "    <tr>\n",
              "      <th>invited_by_user_id</th>\n",
              "      <td>6417.0</td>\n",
              "      <td>5962.957145</td>\n",
              "      <td>3383.761968</td>\n",
              "      <td>3.0</td>\n",
              "      <td>3058.00</td>\n",
              "      <td>5954.0</td>\n",
              "      <td>8817.00</td>\n",
              "      <td>11999.0</td>\n",
              "    </tr>\n",
              "    <tr>\n",
              "      <th>adopted_user</th>\n",
              "      <td>12000.0</td>\n",
              "      <td>0.133500</td>\n",
              "      <td>0.340128</td>\n",
              "      <td>0.0</td>\n",
              "      <td>0.00</td>\n",
              "      <td>0.0</td>\n",
              "      <td>0.00</td>\n",
              "      <td>1.0</td>\n",
              "    </tr>\n",
              "  </tbody>\n",
              "</table>\n",
              "</div>\n",
              "      <button class=\"colab-df-convert\" onclick=\"convertToInteractive('df-6147b018-db45-48b8-8626-474d8c8433e4')\"\n",
              "              title=\"Convert this dataframe to an interactive table.\"\n",
              "              style=\"display:none;\">\n",
              "        \n",
              "  <svg xmlns=\"http://www.w3.org/2000/svg\" height=\"24px\"viewBox=\"0 0 24 24\"\n",
              "       width=\"24px\">\n",
              "    <path d=\"M0 0h24v24H0V0z\" fill=\"none\"/>\n",
              "    <path d=\"M18.56 5.44l.94 2.06.94-2.06 2.06-.94-2.06-.94-.94-2.06-.94 2.06-2.06.94zm-11 1L8.5 8.5l.94-2.06 2.06-.94-2.06-.94L8.5 2.5l-.94 2.06-2.06.94zm10 10l.94 2.06.94-2.06 2.06-.94-2.06-.94-.94-2.06-.94 2.06-2.06.94z\"/><path d=\"M17.41 7.96l-1.37-1.37c-.4-.4-.92-.59-1.43-.59-.52 0-1.04.2-1.43.59L10.3 9.45l-7.72 7.72c-.78.78-.78 2.05 0 2.83L4 21.41c.39.39.9.59 1.41.59.51 0 1.02-.2 1.41-.59l7.78-7.78 2.81-2.81c.8-.78.8-2.07 0-2.86zM5.41 20L4 18.59l7.72-7.72 1.47 1.35L5.41 20z\"/>\n",
              "  </svg>\n",
              "      </button>\n",
              "      \n",
              "  <style>\n",
              "    .colab-df-container {\n",
              "      display:flex;\n",
              "      flex-wrap:wrap;\n",
              "      gap: 12px;\n",
              "    }\n",
              "\n",
              "    .colab-df-convert {\n",
              "      background-color: #E8F0FE;\n",
              "      border: none;\n",
              "      border-radius: 50%;\n",
              "      cursor: pointer;\n",
              "      display: none;\n",
              "      fill: #1967D2;\n",
              "      height: 32px;\n",
              "      padding: 0 0 0 0;\n",
              "      width: 32px;\n",
              "    }\n",
              "\n",
              "    .colab-df-convert:hover {\n",
              "      background-color: #E2EBFA;\n",
              "      box-shadow: 0px 1px 2px rgba(60, 64, 67, 0.3), 0px 1px 3px 1px rgba(60, 64, 67, 0.15);\n",
              "      fill: #174EA6;\n",
              "    }\n",
              "\n",
              "    [theme=dark] .colab-df-convert {\n",
              "      background-color: #3B4455;\n",
              "      fill: #D2E3FC;\n",
              "    }\n",
              "\n",
              "    [theme=dark] .colab-df-convert:hover {\n",
              "      background-color: #434B5C;\n",
              "      box-shadow: 0px 1px 3px 1px rgba(0, 0, 0, 0.15);\n",
              "      filter: drop-shadow(0px 1px 2px rgba(0, 0, 0, 0.3));\n",
              "      fill: #FFFFFF;\n",
              "    }\n",
              "  </style>\n",
              "\n",
              "      <script>\n",
              "        const buttonEl =\n",
              "          document.querySelector('#df-6147b018-db45-48b8-8626-474d8c8433e4 button.colab-df-convert');\n",
              "        buttonEl.style.display =\n",
              "          google.colab.kernel.accessAllowed ? 'block' : 'none';\n",
              "\n",
              "        async function convertToInteractive(key) {\n",
              "          const element = document.querySelector('#df-6147b018-db45-48b8-8626-474d8c8433e4');\n",
              "          const dataTable =\n",
              "            await google.colab.kernel.invokeFunction('convertToInteractive',\n",
              "                                                     [key], {});\n",
              "          if (!dataTable) return;\n",
              "\n",
              "          const docLinkHtml = 'Like what you see? Visit the ' +\n",
              "            '<a target=\"_blank\" href=https://colab.research.google.com/notebooks/data_table.ipynb>data table notebook</a>'\n",
              "            + ' to learn more about interactive tables.';\n",
              "          element.innerHTML = '';\n",
              "          dataTable['output_type'] = 'display_data';\n",
              "          await google.colab.output.renderOutput(dataTable, element);\n",
              "          const docLink = document.createElement('div');\n",
              "          docLink.innerHTML = docLinkHtml;\n",
              "          element.appendChild(docLink);\n",
              "        }\n",
              "      </script>\n",
              "    </div>\n",
              "  </div>\n",
              "  "
            ]
          },
          "metadata": {},
          "execution_count": 138
        }
      ]
    },
    {
      "cell_type": "markdown",
      "source": [
        "Let's see if we can extract useful information from the email variable like it's domain."
      ],
      "metadata": {
        "id": "3qaMn8bOLQQ-"
      }
    },
    {
      "cell_type": "code",
      "source": [
        "df_users['email_domain'] = df_users.email.apply(lambda x: x.split('@')[1])\n",
        "df_users['email_domain'].value_counts()"
      ],
      "metadata": {
        "colab": {
          "base_uri": "https://localhost:8080/"
        },
        "id": "yFwIB-zFLLrY",
        "outputId": "5752f8f4-d482-442c-9389-1c21e2ad9e32"
      },
      "execution_count": null,
      "outputs": [
        {
          "output_type": "execute_result",
          "data": {
            "text/plain": [
              "gmail.com         3562\n",
              "yahoo.com         2447\n",
              "jourrapide.com    1259\n",
              "cuvox.de          1202\n",
              "gustr.com         1179\n",
              "                  ... \n",
              "lrabg.com            1\n",
              "mrytw.com            1\n",
              "ugtav.com            1\n",
              "hqhll.com            1\n",
              "iuxiw.com            1\n",
              "Name: email_domain, Length: 1184, dtype: int64"
            ]
          },
          "metadata": {},
          "execution_count": 139
        }
      ]
    },
    {
      "cell_type": "code",
      "source": [
        "# Also checking the creation_source for NON NULL invited_by_user column\n",
        "df_users[~df_users.invited_by_user_id.isnull()].creation_source.unique()"
      ],
      "metadata": {
        "colab": {
          "base_uri": "https://localhost:8080/"
        },
        "id": "2d8N0is7LLpF",
        "outputId": "2beaf25d-89c9-4158-ec3b-580025160a56"
      },
      "execution_count": null,
      "outputs": [
        {
          "output_type": "execute_result",
          "data": {
            "text/plain": [
              "array(['GUEST_INVITE', 'ORG_INVITE'], dtype=object)"
            ]
          },
          "metadata": {},
          "execution_count": 140
        }
      ]
    },
    {
      "cell_type": "markdown",
      "source": [
        "There are too many email domains and most of them seem fake domains so it's good to drop the column entirely. We can also drop the name and object_id columns.\n",
        "\n",
        "And for the invited_by_user_id let's convert the NULL values to 0 because the column has a Non Null value only if the creation_source was a GUEST_INVITE or a ORG_INVITE anyways.\n",
        "\n",
        "For the creation_time column let's add a column which calculates how old the account is, i.e. the number of days since the account was created.\n",
        "\n",
        "And since last_session_creation_time can be removed as well because it was in a sense used to create the adopted_user column."
      ],
      "metadata": {
        "id": "ow6hXc12LWsE"
      }
    },
    {
      "cell_type": "code",
      "source": [
        "df_users.drop(['object_id', 'name', 'email', 'email_domain'], axis = 1, inplace = True)"
      ],
      "metadata": {
        "id": "TSEIISfbLLmv"
      },
      "execution_count": null,
      "outputs": []
    },
    {
      "cell_type": "code",
      "source": [
        "df_users.invited_by_user_id.fillna(0, inplace=True)"
      ],
      "metadata": {
        "id": "gJRmvqpvMJ3U"
      },
      "execution_count": null,
      "outputs": []
    },
    {
      "cell_type": "code",
      "source": [
        "df_users['days_since_creation'] = df_users.creation_time"
      ],
      "metadata": {
        "id": "pOfvQQNAMFWX"
      },
      "execution_count": null,
      "outputs": []
    },
    {
      "cell_type": "code",
      "source": [
        "df_users.drop(['creation_time', 'last_session_creation_time'], axis = 1, inplace = True)"
      ],
      "metadata": {
        "id": "BOp9YUz5MCwY"
      },
      "execution_count": null,
      "outputs": []
    },
    {
      "cell_type": "markdown",
      "source": [
        "Let's OneHotEncode the creation_source column."
      ],
      "metadata": {
        "id": "KBWuOg_VLf2Y"
      }
    },
    {
      "cell_type": "code",
      "source": [
        "df_users = pd.get_dummies(df_users, columns=['creation_source'])\n",
        "df_users.describe().T"
      ],
      "metadata": {
        "colab": {
          "base_uri": "https://localhost:8080/",
          "height": 357
        },
        "id": "kyYcqRdcLLka",
        "outputId": "66c9dd39-857e-4d9f-dc27-b834e690b5b6"
      },
      "execution_count": null,
      "outputs": [
        {
          "output_type": "execute_result",
          "data": {
            "text/plain": [
              "                                      count         mean          std  min  \\\n",
              "opted_in_to_mailing_list            12000.0     0.249500     0.432742  0.0   \n",
              "enabled_for_marketing_drip          12000.0     0.149333     0.356432  0.0   \n",
              "org_id                              12000.0   141.884583   124.056723  0.0   \n",
              "invited_by_user_id                  12000.0  3188.691333  3869.027693  0.0   \n",
              "adopted_user                        12000.0     0.133500     0.340128  0.0   \n",
              "creation_source_GUEST_INVITE        12000.0     0.180250     0.384412  0.0   \n",
              "creation_source_ORG_INVITE          12000.0     0.354500     0.478381  0.0   \n",
              "creation_source_PERSONAL_PROJECTS   12000.0     0.175917     0.380765  0.0   \n",
              "creation_source_SIGNUP              12000.0     0.173917     0.379054  0.0   \n",
              "creation_source_SIGNUP_GOOGLE_AUTH  12000.0     0.115417     0.319537  0.0   \n",
              "\n",
              "                                     25%    50%      75%      max  \n",
              "opted_in_to_mailing_list             0.0    0.0     0.00      1.0  \n",
              "enabled_for_marketing_drip           0.0    0.0     0.00      1.0  \n",
              "org_id                              29.0  108.0   238.25    416.0  \n",
              "invited_by_user_id                   0.0  875.0  6317.00  11999.0  \n",
              "adopted_user                         0.0    0.0     0.00      1.0  \n",
              "creation_source_GUEST_INVITE         0.0    0.0     0.00      1.0  \n",
              "creation_source_ORG_INVITE           0.0    0.0     1.00      1.0  \n",
              "creation_source_PERSONAL_PROJECTS    0.0    0.0     0.00      1.0  \n",
              "creation_source_SIGNUP               0.0    0.0     0.00      1.0  \n",
              "creation_source_SIGNUP_GOOGLE_AUTH   0.0    0.0     0.00      1.0  "
            ],
            "text/html": [
              "\n",
              "  <div id=\"df-342b859b-a068-43f6-ad02-c3f3130eb635\">\n",
              "    <div class=\"colab-df-container\">\n",
              "      <div>\n",
              "<style scoped>\n",
              "    .dataframe tbody tr th:only-of-type {\n",
              "        vertical-align: middle;\n",
              "    }\n",
              "\n",
              "    .dataframe tbody tr th {\n",
              "        vertical-align: top;\n",
              "    }\n",
              "\n",
              "    .dataframe thead th {\n",
              "        text-align: right;\n",
              "    }\n",
              "</style>\n",
              "<table border=\"1\" class=\"dataframe\">\n",
              "  <thead>\n",
              "    <tr style=\"text-align: right;\">\n",
              "      <th></th>\n",
              "      <th>count</th>\n",
              "      <th>mean</th>\n",
              "      <th>std</th>\n",
              "      <th>min</th>\n",
              "      <th>25%</th>\n",
              "      <th>50%</th>\n",
              "      <th>75%</th>\n",
              "      <th>max</th>\n",
              "    </tr>\n",
              "  </thead>\n",
              "  <tbody>\n",
              "    <tr>\n",
              "      <th>opted_in_to_mailing_list</th>\n",
              "      <td>12000.0</td>\n",
              "      <td>0.249500</td>\n",
              "      <td>0.432742</td>\n",
              "      <td>0.0</td>\n",
              "      <td>0.0</td>\n",
              "      <td>0.0</td>\n",
              "      <td>0.00</td>\n",
              "      <td>1.0</td>\n",
              "    </tr>\n",
              "    <tr>\n",
              "      <th>enabled_for_marketing_drip</th>\n",
              "      <td>12000.0</td>\n",
              "      <td>0.149333</td>\n",
              "      <td>0.356432</td>\n",
              "      <td>0.0</td>\n",
              "      <td>0.0</td>\n",
              "      <td>0.0</td>\n",
              "      <td>0.00</td>\n",
              "      <td>1.0</td>\n",
              "    </tr>\n",
              "    <tr>\n",
              "      <th>org_id</th>\n",
              "      <td>12000.0</td>\n",
              "      <td>141.884583</td>\n",
              "      <td>124.056723</td>\n",
              "      <td>0.0</td>\n",
              "      <td>29.0</td>\n",
              "      <td>108.0</td>\n",
              "      <td>238.25</td>\n",
              "      <td>416.0</td>\n",
              "    </tr>\n",
              "    <tr>\n",
              "      <th>invited_by_user_id</th>\n",
              "      <td>12000.0</td>\n",
              "      <td>3188.691333</td>\n",
              "      <td>3869.027693</td>\n",
              "      <td>0.0</td>\n",
              "      <td>0.0</td>\n",
              "      <td>875.0</td>\n",
              "      <td>6317.00</td>\n",
              "      <td>11999.0</td>\n",
              "    </tr>\n",
              "    <tr>\n",
              "      <th>adopted_user</th>\n",
              "      <td>12000.0</td>\n",
              "      <td>0.133500</td>\n",
              "      <td>0.340128</td>\n",
              "      <td>0.0</td>\n",
              "      <td>0.0</td>\n",
              "      <td>0.0</td>\n",
              "      <td>0.00</td>\n",
              "      <td>1.0</td>\n",
              "    </tr>\n",
              "    <tr>\n",
              "      <th>creation_source_GUEST_INVITE</th>\n",
              "      <td>12000.0</td>\n",
              "      <td>0.180250</td>\n",
              "      <td>0.384412</td>\n",
              "      <td>0.0</td>\n",
              "      <td>0.0</td>\n",
              "      <td>0.0</td>\n",
              "      <td>0.00</td>\n",
              "      <td>1.0</td>\n",
              "    </tr>\n",
              "    <tr>\n",
              "      <th>creation_source_ORG_INVITE</th>\n",
              "      <td>12000.0</td>\n",
              "      <td>0.354500</td>\n",
              "      <td>0.478381</td>\n",
              "      <td>0.0</td>\n",
              "      <td>0.0</td>\n",
              "      <td>0.0</td>\n",
              "      <td>1.00</td>\n",
              "      <td>1.0</td>\n",
              "    </tr>\n",
              "    <tr>\n",
              "      <th>creation_source_PERSONAL_PROJECTS</th>\n",
              "      <td>12000.0</td>\n",
              "      <td>0.175917</td>\n",
              "      <td>0.380765</td>\n",
              "      <td>0.0</td>\n",
              "      <td>0.0</td>\n",
              "      <td>0.0</td>\n",
              "      <td>0.00</td>\n",
              "      <td>1.0</td>\n",
              "    </tr>\n",
              "    <tr>\n",
              "      <th>creation_source_SIGNUP</th>\n",
              "      <td>12000.0</td>\n",
              "      <td>0.173917</td>\n",
              "      <td>0.379054</td>\n",
              "      <td>0.0</td>\n",
              "      <td>0.0</td>\n",
              "      <td>0.0</td>\n",
              "      <td>0.00</td>\n",
              "      <td>1.0</td>\n",
              "    </tr>\n",
              "    <tr>\n",
              "      <th>creation_source_SIGNUP_GOOGLE_AUTH</th>\n",
              "      <td>12000.0</td>\n",
              "      <td>0.115417</td>\n",
              "      <td>0.319537</td>\n",
              "      <td>0.0</td>\n",
              "      <td>0.0</td>\n",
              "      <td>0.0</td>\n",
              "      <td>0.00</td>\n",
              "      <td>1.0</td>\n",
              "    </tr>\n",
              "  </tbody>\n",
              "</table>\n",
              "</div>\n",
              "      <button class=\"colab-df-convert\" onclick=\"convertToInteractive('df-342b859b-a068-43f6-ad02-c3f3130eb635')\"\n",
              "              title=\"Convert this dataframe to an interactive table.\"\n",
              "              style=\"display:none;\">\n",
              "        \n",
              "  <svg xmlns=\"http://www.w3.org/2000/svg\" height=\"24px\"viewBox=\"0 0 24 24\"\n",
              "       width=\"24px\">\n",
              "    <path d=\"M0 0h24v24H0V0z\" fill=\"none\"/>\n",
              "    <path d=\"M18.56 5.44l.94 2.06.94-2.06 2.06-.94-2.06-.94-.94-2.06-.94 2.06-2.06.94zm-11 1L8.5 8.5l.94-2.06 2.06-.94-2.06-.94L8.5 2.5l-.94 2.06-2.06.94zm10 10l.94 2.06.94-2.06 2.06-.94-2.06-.94-.94-2.06-.94 2.06-2.06.94z\"/><path d=\"M17.41 7.96l-1.37-1.37c-.4-.4-.92-.59-1.43-.59-.52 0-1.04.2-1.43.59L10.3 9.45l-7.72 7.72c-.78.78-.78 2.05 0 2.83L4 21.41c.39.39.9.59 1.41.59.51 0 1.02-.2 1.41-.59l7.78-7.78 2.81-2.81c.8-.78.8-2.07 0-2.86zM5.41 20L4 18.59l7.72-7.72 1.47 1.35L5.41 20z\"/>\n",
              "  </svg>\n",
              "      </button>\n",
              "      \n",
              "  <style>\n",
              "    .colab-df-container {\n",
              "      display:flex;\n",
              "      flex-wrap:wrap;\n",
              "      gap: 12px;\n",
              "    }\n",
              "\n",
              "    .colab-df-convert {\n",
              "      background-color: #E8F0FE;\n",
              "      border: none;\n",
              "      border-radius: 50%;\n",
              "      cursor: pointer;\n",
              "      display: none;\n",
              "      fill: #1967D2;\n",
              "      height: 32px;\n",
              "      padding: 0 0 0 0;\n",
              "      width: 32px;\n",
              "    }\n",
              "\n",
              "    .colab-df-convert:hover {\n",
              "      background-color: #E2EBFA;\n",
              "      box-shadow: 0px 1px 2px rgba(60, 64, 67, 0.3), 0px 1px 3px 1px rgba(60, 64, 67, 0.15);\n",
              "      fill: #174EA6;\n",
              "    }\n",
              "\n",
              "    [theme=dark] .colab-df-convert {\n",
              "      background-color: #3B4455;\n",
              "      fill: #D2E3FC;\n",
              "    }\n",
              "\n",
              "    [theme=dark] .colab-df-convert:hover {\n",
              "      background-color: #434B5C;\n",
              "      box-shadow: 0px 1px 3px 1px rgba(0, 0, 0, 0.15);\n",
              "      filter: drop-shadow(0px 1px 2px rgba(0, 0, 0, 0.3));\n",
              "      fill: #FFFFFF;\n",
              "    }\n",
              "  </style>\n",
              "\n",
              "      <script>\n",
              "        const buttonEl =\n",
              "          document.querySelector('#df-342b859b-a068-43f6-ad02-c3f3130eb635 button.colab-df-convert');\n",
              "        buttonEl.style.display =\n",
              "          google.colab.kernel.accessAllowed ? 'block' : 'none';\n",
              "\n",
              "        async function convertToInteractive(key) {\n",
              "          const element = document.querySelector('#df-342b859b-a068-43f6-ad02-c3f3130eb635');\n",
              "          const dataTable =\n",
              "            await google.colab.kernel.invokeFunction('convertToInteractive',\n",
              "                                                     [key], {});\n",
              "          if (!dataTable) return;\n",
              "\n",
              "          const docLinkHtml = 'Like what you see? Visit the ' +\n",
              "            '<a target=\"_blank\" href=https://colab.research.google.com/notebooks/data_table.ipynb>data table notebook</a>'\n",
              "            + ' to learn more about interactive tables.';\n",
              "          element.innerHTML = '';\n",
              "          dataTable['output_type'] = 'display_data';\n",
              "          await google.colab.output.renderOutput(dataTable, element);\n",
              "          const docLink = document.createElement('div');\n",
              "          docLink.innerHTML = docLinkHtml;\n",
              "          element.appendChild(docLink);\n",
              "        }\n",
              "      </script>\n",
              "    </div>\n",
              "  </div>\n",
              "  "
            ]
          },
          "metadata": {},
          "execution_count": 101
        }
      ]
    },
    {
      "cell_type": "code",
      "source": [
        "df_users.corr()['adopted_user']"
      ],
      "metadata": {
        "id": "oSnlmnbnLLiC",
        "colab": {
          "base_uri": "https://localhost:8080/"
        },
        "outputId": "a0cb9b0c-b4ef-4ba0-f424-f8211be87272"
      },
      "execution_count": null,
      "outputs": [
        {
          "output_type": "execute_result",
          "data": {
            "text/plain": [
              "opted_in_to_mailing_list              0.008097\n",
              "enabled_for_marketing_drip            0.004653\n",
              "org_id                                0.064523\n",
              "invited_by_user_id                    0.021596\n",
              "adopted_user                          1.000000\n",
              "creation_source_GUEST_INVITE          0.045408\n",
              "creation_source_ORG_INVITE           -0.007636\n",
              "creation_source_PERSONAL_PROJECTS    -0.075817\n",
              "creation_source_SIGNUP                0.009299\n",
              "creation_source_SIGNUP_GOOGLE_AUTH    0.036119\n",
              "Name: adopted_user, dtype: float64"
            ]
          },
          "metadata": {},
          "execution_count": 102
        }
      ]
    },
    {
      "cell_type": "code",
      "source": [
        "#sns.pairplot(df_users, hue = 'adopted_user')\n",
        "for col in ['opted_in_to_mailing_list', 'enabled_for_marketing_drip', 'creation_source_GUEST_INVITE',\n",
        "           'creation_source_ORG_INVITE', 'creation_source_PERSONAL_PROJECTS', 'creation_source_SIGNUP',\n",
        "           'creation_source_SIGNUP_GOOGLE_AUTH']:\n",
        "    g = sns.FacetGrid(df_users, hue = \"adopted_user\", height=3, aspect=1.5,)\n",
        "    g.map(plt.hist, col, alpha=.5, bins = 20)\n",
        "    g.add_legend() "
      ],
      "metadata": {
        "id": "TIHV2HzmLLfI",
        "colab": {
          "base_uri": "https://localhost:8080/",
          "height": 1000
        },
        "outputId": "df670cd3-bdcd-4b11-82a2-e26ee2ab8110"
      },
      "execution_count": null,
      "outputs": [
        {
          "output_type": "display_data",
          "data": {
            "text/plain": [
              "<Figure size 400x216 with 1 Axes>"
            ],
            "image/png": "[encoded data removed]"
          },
          "metadata": {
            "needs_background": "light"
          }
        },
        {
          "output_type": "display_data",
          "data": {
            "text/plain": [
              "<Figure size 400x216 with 1 Axes>"
            ],
            "image/png": "[encoded data removed]"
          },
          "metadata": {
            "needs_background": "light"
          }
        },
        {
          "output_type": "display_data",
          "data": {
            "text/plain": [
              "<Figure size 400x216 with 1 Axes>"
            ],
            "image/png": "[encoded data removed]"
          },
          "metadata": {
            "needs_background": "light"
          }
        },
        {
          "output_type": "display_data",
          "data": {
            "text/plain": [
              "<Figure size 400x216 with 1 Axes>"
            ],
            "image/png": "[encoded data removed]"
          },
          "metadata": {
            "needs_background": "light"
          }
        },
        {
          "output_type": "display_data",
          "data": {
            "text/plain": [
              "<Figure size 400x216 with 1 Axes>"
            ],
            "image/png": "[encoded data removed]"
          },
          "metadata": {
            "needs_background": "light"
          }
        },
        {
          "output_type": "display_data",
          "data": {
            "text/plain": [
              "<Figure size 400x216 with 1 Axes>"
            ],
            "image/png": "[encoded data removed]"
          },
          "metadata": {
            "needs_background": "light"
          }
        },
        {
          "output_type": "display_data",
          "data": {
            "text/plain": [
              "<Figure size 400x216 with 1 Axes>"
            ],
            "image/png": "[encoded data removed]"
          },
          "metadata": {
            "needs_background": "light"
          }
        }
      ]
    },
    {
      "cell_type": "code",
      "source": [
        "g = sns.FacetGrid(df_users, hue = \"adopted_user\", height=4, aspect=2,)\n",
        "_ = g.map(plt.hist, 'days_since_creation', alpha=0.8, bins = 20)\n",
        "_ = g.add_legend() \n",
        "#sns.distplot(df_users['days_since_creation'], kde = False, bins = 20, hue = 'adopted_user')"
      ],
      "metadata": {
        "id": "lhMhW3qWLLck",
        "colab": {
          "base_uri": "https://localhost:8080/",
          "height": 297
        },
        "outputId": "03efad3b-1d04-4346-beeb-f8d6e4efe08e"
      },
      "execution_count": 170,
      "outputs": [
        {
          "output_type": "display_data",
          "data": {
            "text/plain": [
              "<Figure size 652x288 with 1 Axes>"
            ],
            "image/png": "[encoded data removed]"
          },
          "metadata": {
            "needs_background": "light"
          }
        }
      ]
    },
    {
      "cell_type": "code",
      "source": [
        "# Importing necessary packages\n",
        "from sklearn.ensemble import RandomForestClassifier\n",
        "from sklearn.metrics import f1_score, precision_score, recall_score, accuracy_score, confusion_matrix\n",
        "from sklearn.model_selection import train_test_split\n",
        "from sklearn.model_selection import GridSearchCV\n",
        "import time\n",
        "from sklearn.metrics import classification_report, confusion_matrix, roc_auc_score, roc_curve, accuracy_score,\\\n",
        "precision_score, recall_score, f1_score"
      ],
      "metadata": {
        "id": "yBUpNqZ0LLaN"
      },
      "execution_count": 171,
      "outputs": []
    },
    {
      "cell_type": "code",
      "source": [
        "def cv_optimize(model, parameters, Xtrain, ytrain, n_folds = 5):\n",
        "    \"\"\"\n",
        "    Cross validation. Function to hypertune the model \"model\" with the input paramete distribution using\n",
        "    \"parameters\" on the training data.\n",
        "    The output will be the best estimator whose average score on all folds will be best. \n",
        "    \"\"\"\n",
        "    clf = GridSearchCV(model, param_grid = parameters, cv = n_folds, scoring = 'accuracy')\n",
        "    t0 = time.time()\n",
        "    clf.fit(Xtrain, ytrain)\n",
        "    time_fit = time.time() - t0 \n",
        "    print('\\n\\n\\n=============================',type(model).__name__,'=================================\\n')\n",
        "    print(\"It takes %.3f seconds for tuning \" % (time_fit))\n",
        "    print(\"BEST PARAMS\", clf.best_params_)\n",
        "    best = clf.best_estimator_\n",
        "    return best\n",
        "    \n",
        "def do_classify(model, parameters, df, targetname, scale = True, cols_to_transform = 'numeric', \n",
        "                featurenames = 'all', train_size = 0.8):\n",
        "      \n",
        "    # Creating the X and y variables for our model\n",
        "    if featurenames == 'all':\n",
        "        X = df.drop([targetname], axis = 1)\n",
        "    else:\n",
        "        X = df[featurenames]\n",
        "        \n",
        "    y = df[targetname]\n",
        "    \n",
        "    Xtrain, Xtest, ytrain, ytest = train_test_split(X, y, train_size = train_size)\n",
        "\n",
        "    model = cv_optimize(model, parameters, Xtrain, ytrain)\n",
        "    t0 = time.time()\n",
        "    model = model.fit(Xtrain, ytrain)\n",
        "    time_fit = time.time() - t0 \n",
        "    print(\"It takes %.3f seconds for fitting\" % (time_fit))\n",
        "    training_accuracy = model.score(Xtrain, ytrain)\n",
        "    test_accuracy = model.score(Xtest, ytest)\n",
        "    precision = precision_score(ytest, model.predict(Xtest))\n",
        "    recall = recall_score(ytest, model.predict(Xtest))\n",
        "    AUC = roc_auc_score(ytest, model.predict_proba(Xtest)[:,1])\n",
        "            \n",
        "    print(\"Accuracy on training data: {:0.2f}\".format(training_accuracy))\n",
        "    print(\"Accuracy on test data:     {:0.2f}\".format(test_accuracy))\n",
        "    print(\"Precision on test data:    {:0.2f}\".format(precision))\n",
        "    print(\"Recall on test data:       {:0.2f}\".format(recall))\n",
        "    print(\"AUC on test data:          {:0.2f}\".format(AUC))\n",
        "    print(\"=======Confusion Matrix=========\")\n",
        "    print(confusion_matrix(ytest, model.predict(Xtest)))\n",
        "    print(\"=======Classification report=======\")\n",
        "    print(classification_report(ytest, model.predict(Xtest)))\n",
        "    print(\"=\"*100)\n",
        "    print(\"=\"*100)\n",
        "    print(\"=\"*100)\n",
        "    return model, Xtrain, ytrain, Xtest, ytest"
      ],
      "metadata": {
        "id": "xDHPZfldLLXR"
      },
      "execution_count": 172,
      "outputs": []
    },
    {
      "cell_type": "code",
      "source": [
        "# Random Forest model\n",
        "model_rf = RandomForestClassifier(class_weight='balanced') # adding balanced to handle the unbalanced data\n",
        "parameters_rf = {\n",
        "                 'n_estimators': [10, 25, 50, 75, 100],\n",
        "                 'criterion': [\"gini\", \"entropy\"],\n",
        "                 'max_depth': [3, 6, 10, 12],\n",
        "                 'max_features': ['auto', 'sqrt']\n",
        "                }"
      ],
      "metadata": {
        "id": "KM1w8khELLT5"
      },
      "execution_count": 173,
      "outputs": []
    },
    {
      "cell_type": "code",
      "source": [
        "model_rf, Xtrain, ytrain, Xtest, ytest = do_classify(model_rf, parameters_rf, \n",
        "                                                                  df_users, targetname = 'adopted_user')"
      ],
      "metadata": {
        "id": "jgKad1aFVPU8"
      },
      "execution_count": null,
      "outputs": []
    },
    {
      "cell_type": "code",
      "source": [
        "feat_imp = pd.DataFrame({'importance':model_rf.feature_importances_})    \n",
        "feat_imp['feature'] = Xtrain.columns\n",
        "feat_imp.sort_values(by='importance', ascending=False, inplace=True)\n",
        "    \n",
        "feat_imp.sort_values(by='importance', inplace=True)\n",
        "feat_imp = feat_imp.set_index('feature', drop=True)\n",
        "_ = feat_imp.plot.barh(title = 'Random Forest feature importance', figsize = (12,7))"
      ],
      "metadata": {
        "id": "-52nSQ1nVPQo"
      },
      "execution_count": null,
      "outputs": []
    },
    {
      "cell_type": "code",
      "source": [],
      "metadata": {
        "id": "bE8qKhM6VPNX"
      },
      "execution_count": null,
      "outputs": []
    },
    {
      "cell_type": "markdown",
      "source": [
        "The top 5 important features seem to be:\n",
        "\n",
        "*   invited_by_user_id\n",
        "*   creation_source_PERSONAL_PROJECTS\n",
        "*   opted_in_to_mailing_list\n",
        "*   days_since_creation\n",
        "*   org_id\n",
        "\n",
        "Furture possible work: We can also add a feature which calculates the difference between the creation date of the account and the first login of the user.\n",
        "\n"
      ],
      "metadata": {
        "id": "pkDt381QVa4Z"
      }
    }
  ]
}